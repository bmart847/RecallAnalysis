{
 "cells": [
  {
   "cell_type": "code",
   "execution_count": 1,
   "metadata": {
    "collapsed": true
   },
   "outputs": [],
   "source": [
    "import pandas as pd\n",
    "import numpy as np\n",
    "import matplotlib.pyplot as plt"
   ]
  },
  {
   "cell_type": "code",
   "execution_count": 2,
   "metadata": {
    "collapsed": false
   },
   "outputs": [
    {
     "name": "stderr",
     "output_type": "stream",
     "text": [
      "b'Skipping line 562494: expected 49 fields, saw 70\\n'\n",
      "b'Skipping line 1032227: expected 49 fields, saw 50\\n'\n",
      "b'Skipping line 1208326: expected 49 fields, saw 50\\n'\n",
      "b'Skipping line 1293115: expected 49 fields, saw 50\\n'\n",
      "b'Skipping line 1297984: expected 49 fields, saw 50\\nSkipping line 1297985: expected 49 fields, saw 50\\nSkipping line 1297986: expected 49 fields, saw 50\\n'\n",
      "b'Skipping line 1317854: expected 49 fields, saw 50\\nSkipping line 1322763: expected 49 fields, saw 50\\nSkipping line 1324669: expected 49 fields, saw 50\\n'\n",
      "b'Skipping line 1331347: expected 49 fields, saw 50\\nSkipping line 1334670: expected 49 fields, saw 50\\n'\n",
      "C:\\Users\\owen\\Anaconda3\\lib\\site-packages\\IPython\\core\\interactiveshell.py:2717: DtypeWarning: Columns (32,33,34,35,36,38,39,40,41,42,43,44,46,47,48) have mixed types. Specify dtype option on import or set low_memory=False.\n",
      "  interactivity=interactivity, compiler=compiler, result=result)\n"
     ]
    }
   ],
   "source": [
    "carData = pd.read_table(r\"C:\\Users\\owen\\Desktop\\RecallAnalysis\\FLAT_CMPL\\FLAT_CMPL.txt\",error_bad_lines = False,  encoding = 'ISO-8859-1')\n"
   ]
  },
  {
   "cell_type": "code",
   "execution_count": 3,
   "metadata": {
    "collapsed": false
   },
   "outputs": [
    {
     "data": {
      "text/plain": [
       "General Motors LLC                       152829\n",
       "GENERAL MOTORS CORP.                     138021\n",
       "Ford Motor Company                       137322\n",
       "FORD MOTOR COMPANY                       131559\n",
       "DAIMLERCHRYSLER CORPORATION               78895\n",
       "CHRYSLER GROUP LLC                        75396\n",
       "TOYOTA MOTOR CORPORATION                  61899\n",
       "Chrysler (FCA US LLC)                     60378\n",
       "HONDA (AMERICAN HONDA MOTOR CO.)          41848\n",
       "NISSAN NORTH AMERICA, INC.                34411\n",
       "Chrysler Group LLC                        31162\n",
       "Toyota Motor Corporation                  27996\n",
       "Nissan North America, Inc.                27210\n",
       "Honda (American Honda Motor Co.)          25102\n",
       "GENERAL MOTORS LLC                        19793\n",
       "VOLKSWAGEN OF AMERICA, INC                16801\n",
       "MAZDA MOTOR CORP                          12946\n",
       "BMW of North America, LLC                 12505\n",
       "UNKNOWN MANUFACTURER                      11524\n",
       "Volkswagen of America, Inc.                9760\n",
       "MITSUBISHI MOTORS NORTH AMERICA, INC.      9750\n",
       "Hyundai Motor America                      9500\n",
       "HYUNDAI MOTOR COMPANY                      9206\n",
       "TOYOTA MOTOR NORTH AMERICA, INC.           8349\n",
       "KIA MOTORS AMERICA, INC.                   7976\n",
       "MERCEDES-BENZ USA, LLC.                    7705\n",
       "BMW OF NORTH AMERICA, LLC                  7537\n",
       "Volkswagen Group of America, Inc.          7376\n",
       "Mercedes-Benz USA, LLC.                    7281\n",
       "Hyundai Motor Company                      7173\n",
       "                                          ...  \n",
       "Fuel                                          1\n",
       "RUFF & TUFF ELECTRIC VEHICLES                 1\n",
       "American Eagle Wheel Corporation              1\n",
       "TRICO PRODUCTS CORP.                          1\n",
       "ATLANTIC BUS SALES                            1\n",
       "SPORT TRAILERS                                1\n",
       "INDICOM BUILDINGS, INC.                       1\n",
       "WTM, INC.                                     1\n",
       "UNITED TRAILERS, INC.                         1\n",
       "Greenfield Products                           1\n",
       "SHOW TRUCKS USA, INC.                         1\n",
       "Fulmer Helmets, Inc.                          1\n",
       "TOM TOM INTERNATIONAL                         1\n",
       "GLADIATOR CUSTOM TRAILERS INC                 1\n",
       "HEAFNER                                       1\n",
       "Arising Industries, Inc.                      1\n",
       "THINK NORTH AMERICA, INC.                     1\n",
       "HARLEY MURRAY INC.                            1\n",
       "PARKER HANNIFIN CORP.                         1\n",
       "SABERSPORT                                    1\n",
       "CHINA XINGYUE GROUP CO, LTD                   1\n",
       "RIDLEY MOTORCYCLE COMPANY                     1\n",
       "COPCO STEEL & ENG. CO.                        1\n",
       "HALDEX COMMERCIAL VEHICLE SYSTEMS             1\n",
       "C & B Quality Trailer Works, Inc.             1\n",
       "GMAX Helmet LLC.                              1\n",
       "MAGNUM SHEILDING CORPORATION                  1\n",
       "CONCORDE TIRES                                1\n",
       "ROUSH PERFORMANCE PRODUCTS, INC.              1\n",
       "Nu Wa Industries, Inc.                        1\n",
       "Name: Ford Motor Company, dtype: int64"
      ]
     },
     "execution_count": 3,
     "metadata": {},
     "output_type": "execute_result"
    }
   ],
   "source": [
    "carData['Ford Motor Company'].value_counts()"
   ]
  },
  {
   "cell_type": "code",
   "execution_count": null,
   "metadata": {
    "collapsed": true
   },
   "outputs": [],
   "source": []
  }
 ],
 "metadata": {
  "anaconda-cloud": {},
  "kernelspec": {
   "display_name": "Python [conda root]",
   "language": "python",
   "name": "conda-root-py"
  },
  "language_info": {
   "codemirror_mode": {
    "name": "ipython",
    "version": 3
   },
   "file_extension": ".py",
   "mimetype": "text/x-python",
   "name": "python",
   "nbconvert_exporter": "python",
   "pygments_lexer": "ipython3",
   "version": "3.5.2"
  }
 },
 "nbformat": 4,
 "nbformat_minor": 1
}
