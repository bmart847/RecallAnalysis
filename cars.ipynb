{
 "cells": [
  {
   "cell_type": "code",
   "execution_count": 117,
   "metadata": {
    "collapsed": true
   },
   "outputs": [],
   "source": [
    "import pandas as pd\n",
    "import numpy as np\n",
    "import matplotlib.pyplot as plt\n",
    "from vaderSentiment.vaderSentiment import SentimentIntensityAnalyzer\n",
    "pd.options.display.max_colwidth = 300\n"
   ]
  },
  {
   "cell_type": "code",
   "execution_count": 4,
   "metadata": {
    "collapsed": false,
    "scrolled": true
   },
   "outputs": [
    {
     "name": "stderr",
     "output_type": "stream",
     "text": [
      "b'Skipping line 562494: expected 49 fields, saw 70\\n'\n",
      "b'Skipping line 1032227: expected 49 fields, saw 50\\n'\n",
      "b'Skipping line 1208326: expected 49 fields, saw 50\\n'\n",
      "b'Skipping line 1293115: expected 49 fields, saw 50\\n'\n",
      "b'Skipping line 1297984: expected 49 fields, saw 50\\nSkipping line 1297985: expected 49 fields, saw 50\\nSkipping line 1297986: expected 49 fields, saw 50\\n'\n",
      "b'Skipping line 1317854: expected 49 fields, saw 50\\nSkipping line 1322763: expected 49 fields, saw 50\\nSkipping line 1324669: expected 49 fields, saw 50\\n'\n",
      "b'Skipping line 1331347: expected 49 fields, saw 50\\nSkipping line 1334670: expected 49 fields, saw 50\\n'\n",
      "C:\\Users\\owen\\Anaconda3\\lib\\site-packages\\IPython\\core\\interactiveshell.py:2717: DtypeWarning: Columns (32,33,34,35,36,38,39,40,41,42,43,44,46,47,48) have mixed types. Specify dtype option on import or set low_memory=False.\n",
      "  interactivity=interactivity, compiler=compiler, result=result)\n"
     ]
    }
   ],
   "source": [
    "carData = pd.read_table(r\"C:\\Users\\owen\\Desktop\\RecallAnalysis\\FLAT_CMPL\\FLAT_CMPL.txt\",error_bad_lines = False,  encoding = 'ISO-8859-1')\n"
   ]
  },
  {
   "cell_type": "code",
   "execution_count": 4,
   "metadata": {
    "collapsed": false
   },
   "outputs": [],
   "source": []
  },
  {
   "cell_type": "code",
   "execution_count": 5,
   "metadata": {
    "collapsed": true
   },
   "outputs": [],
   "source": [
    "analyzer = SentimentIntensityAnalyzer()\n"
   ]
  },
  {
   "cell_type": "code",
   "execution_count": 6,
   "metadata": {
    "collapsed": false,
    "scrolled": true
   },
   "outputs": [
    {
     "data": {
      "text/plain": [
       "Index(['1', '958170', 'Ford Motor Company', 'MERCURY', 'COUGAR', '1995',\n",
       "       'Unnamed: 6', '19950101', 'N', '0', '0.1',\n",
       "       'SERVICE BRAKES, HYDRAULIC:FOUNDATION COMPONENTS', 'CORRAL SPRIN', 'FL',\n",
       "       '1MELM62W5SH', '19950103', '19950103.1', 'Unnamed: 17', '1.1',\n",
       "       'BRAKING SYSTEM FAILURE WITHOUT ABS BRAKES.  TT', 'EVOQ', 'Unnamed: 21',\n",
       "       'Unnamed: 22', 'Unnamed: 23', 'Unnamed: 24', 'Unnamed: 25',\n",
       "       'Unnamed: 26', 'Unnamed: 27', 'Unnamed: 28', 'Unnamed: 29',\n",
       "       'Unnamed: 30', 'Unnamed: 31', 'Unnamed: 32', 'Unnamed: 33',\n",
       "       'Unnamed: 34', 'Unnamed: 35', 'Unnamed: 36', 'Unnamed: 37',\n",
       "       'Unnamed: 38', 'Unnamed: 39', 'Unnamed: 40', 'Unnamed: 41',\n",
       "       'Unnamed: 42', 'Unnamed: 43', 'Unnamed: 44', 'V', 'Unnamed: 46',\n",
       "       'Unnamed: 47', 'Unnamed: 48'],\n",
       "      dtype='object')"
      ]
     },
     "execution_count": 6,
     "metadata": {},
     "output_type": "execute_result"
    }
   ],
   "source": [
    "carData.keys()\n",
    "\n"
   ]
  },
  {
   "cell_type": "code",
   "execution_count": 189,
   "metadata": {
    "collapsed": false
   },
   "outputs": [
    {
     "name": "stdout",
     "output_type": "stream",
     "text": [
      "{'neg': 0.136, 'compound': -0.5994, 'neu': 0.864, 'pos': 0.0}\n"
     ]
    }
   ],
   "source": [
    "test = analyzer.polarity_scores(\"s the shapeless, structureless baked alaska that droops and slumps and collapses while you eat it, or don’t eat it, supposed to be a representation in sugar and eggs of the experience of going insane?\")\n",
    "print(test)\n"
   ]
  },
  {
   "cell_type": "code",
   "execution_count": 263,
   "metadata": {
    "collapsed": false,
    "scrolled": false
   },
   "outputs": [],
   "source": [
    "frankenFrame = pd.DataFrame(columns = ['string', 'manufacturer', 'make', 'model', 'antilock', 'fire', 'injured', 'death', 'compound',])\n",
    "#frankenFrame['ComplaintNum'] = carData['1'] # No longer kept track of in order to drop duplicates. \n",
    "frankenFrame['string'] = carData['BRAKING SYSTEM FAILURE WITHOUT ABS BRAKES.  TT']\n",
    "frankenFrame['manufacturer'] = carData['Ford Motor Company']\n",
    "frankenFrame['make'] = carData['MERCURY']\n",
    "frankenFrame['model'] = carData['COUGAR']\n",
    "frankenFrame['antilock'] = carData['Unnamed: 24']\n",
    "frankenFrame['fire'] = carData['N']\n",
    "frankenFrame['injured'] = carData['0']\n",
    "frankenFrame['death'] = carData['0.1']\n",
    "    #HARSH 1-2 SHIFT  SLIPPING 1-2 SHIFT FOLLOWED BY HARSH ENGAGEMENT.  *LA {'neu': 0.421, 'compound': -0.5473, 'pos': 0.196, 'neg': 0.382}"
   ]
  },
  {
   "cell_type": "code",
   "execution_count": 264,
   "metadata": {
    "collapsed": false
   },
   "outputs": [],
   "source": [
    "#cleaning repeated rows. \n",
    "frankenFrame = frankenFrame.drop_duplicates()\n",
    "\n"
   ]
  },
  {
   "cell_type": "code",
   "execution_count": 265,
   "metadata": {
    "collapsed": false
   },
   "outputs": [],
   "source": [
    "frankenFrame = frankenFrame[pd.notnull(frankenFrame['string'])]\n",
    "\n"
   ]
  },
  {
   "cell_type": "code",
   "execution_count": null,
   "metadata": {
    "collapsed": false
   },
   "outputs": [],
   "source": [
    "#vs = np.array()\n",
    "\n",
    "count = 0\n",
    "\n",
    "sent = pd.DataFrame(columns = ['compound'])\n",
    "vs = pd.DataFrame()\n",
    "\n",
    "for sentence in frankenFrame['string']:\n",
    "    vs = analyzer.polarity_scores(sentence)\n",
    "    #print(vs)\n",
    "    sent = sent.append( vs, ignore_index=True)\n",
    "    #frankenFrame = frankenFrame.append(vs, ignore_index=True)\n",
    "    \n",
    "    count += 1\n",
    "    \n",
    "    \n",
    "    if count > 1000000: #only 100000 for now... \n",
    "        break\n",
    "    #frankenFrame['pos'] += vs['pos']\n",
    "    #frankenFrame['neg'] += vs['neg']\n",
    "    \n",
    "    "
   ]
  },
  {
   "cell_type": "code",
   "execution_count": 106,
   "metadata": {
    "collapsed": false
   },
   "outputs": [
    {
     "name": "stdout",
     "output_type": "stream",
     "text": [
      "        compound    neg    neu    pos\n",
      "0         0.0000  0.139  0.723  0.139\n",
      "1         0.0000  0.000  1.000  0.000\n",
      "2        -0.4019  0.442  0.354  0.204\n",
      "3        -0.5473  0.124  0.876  0.000\n",
      "4        -0.7650  0.248  0.752  0.000\n",
      "5        -0.4215  0.318  0.682  0.000\n",
      "6        -0.1531  0.078  0.922  0.000\n",
      "7         0.0000  0.000  1.000  0.000\n",
      "8        -0.4767  0.341  0.659  0.000\n",
      "9         0.0000  0.000  1.000  0.000\n",
      "10        0.0000  0.000  1.000  0.000\n",
      "11       -0.5423  0.171  0.829  0.000\n",
      "12       -0.5423  0.273  0.727  0.000\n",
      "13       -0.3182  0.141  0.859  0.000\n",
      "14        0.0000  0.000  1.000  0.000\n",
      "15       -0.5106  0.292  0.708  0.000\n",
      "16       -0.6249  0.359  0.476  0.165\n",
      "17        0.0000  0.000  1.000  0.000\n",
      "18       -0.4939  0.390  0.610  0.000\n",
      "19       -0.0516  0.171  0.714  0.114\n",
      "20       -0.4215  0.135  0.865  0.000\n",
      "21       -0.2500  0.133  0.867  0.000\n",
      "22       -0.4767  0.193  0.807  0.000\n",
      "23       -0.7964  0.231  0.769  0.000\n",
      "24        0.0000  0.000  1.000  0.000\n",
      "25       -0.8481  0.535  0.465  0.000\n",
      "26       -0.5423  0.170  0.830  0.000\n",
      "27        0.1027  0.135  0.706  0.159\n",
      "28        0.0000  0.000  1.000  0.000\n",
      "29        0.0000  0.000  1.000  0.000\n",
      "...          ...    ...    ...    ...\n",
      "99971    -0.5106  0.452  0.548  0.000\n",
      "99972    -0.5106  0.292  0.708  0.000\n",
      "99973     0.0000  0.000  1.000  0.000\n",
      "99974    -0.5106  0.452  0.548  0.000\n",
      "99975    -0.5106  0.452  0.548  0.000\n",
      "99976    -0.5106  0.320  0.680  0.000\n",
      "99977     0.0000  0.000  1.000  0.000\n",
      "99978    -0.5994  0.154  0.846  0.000\n",
      "99979    -0.5106  0.398  0.602  0.000\n",
      "99980    -0.6908  0.416  0.584  0.000\n",
      "99981    -0.7264  0.142  0.858  0.000\n",
      "99982    -0.5106  0.767  0.233  0.000\n",
      "99983     0.0000  0.000  1.000  0.000\n",
      "99984    -0.3400  0.444  0.556  0.000\n",
      "99985    -0.5106  0.623  0.377  0.000\n",
      "99986     0.2263  0.000  0.612  0.388\n",
      "99987    -0.5106  0.767  0.233  0.000\n",
      "99988     0.0000  0.000  1.000  0.000\n",
      "99989    -0.4215  0.483  0.517  0.000\n",
      "99990    -0.4278  0.104  0.840  0.055\n",
      "99991    -0.5106  0.320  0.680  0.000\n",
      "99992    -0.5106  0.320  0.680  0.000\n",
      "99993     0.0000  0.000  1.000  0.000\n",
      "99994    -0.0000  0.347  0.408  0.245\n",
      "99995    -0.7906  0.533  0.467  0.000\n",
      "99996    -0.3612  0.217  0.783  0.000\n",
      "99997     0.0000  0.000  1.000  0.000\n",
      "99998     0.0000  0.000  1.000  0.000\n",
      "99999     0.0000  0.000  1.000  0.000\n",
      "100000   -0.5106  0.452  0.548  0.000\n",
      "\n",
      "[100001 rows x 4 columns]\n"
     ]
    }
   ],
   "source": [
    "print(sent)\n"
   ]
  },
  {
   "cell_type": "code",
   "execution_count": 104,
   "metadata": {
    "collapsed": true
   },
   "outputs": [],
   "source": [
    "frankenFrame['compound'] = sent['compound']"
   ]
  },
  {
   "cell_type": "code",
   "execution_count": 105,
   "metadata": {
    "collapsed": false
   },
   "outputs": [
    {
     "name": "stdout",
     "output_type": "stream",
     "text": [
      "                                                    string  \\\n",
      "0        VEHICLE STALLS AT HIGH SPEED, RESULTING IN LOS...   \n",
      "1        VEHICLES SUN ROOF GLASS FLEW OFF WHILE DRIVING...   \n",
      "2        EXHAUST SYSTEM FAILS; PLEASE DESCRIBE DETAILS....   \n",
      "4        WHEN REAR ENDED WITH FOOT ON BRAKE, DRIVERS SH...   \n",
      "5        BRAKE PEDAL PUSH ROD RETAINER WAS NOT PROPERLY...   \n",
      "7            STRESS CRACKS AROUND FRONT PLASTIC HINGE.  TT   \n",
      "8        DRIVER SEAT BELT RETRACTOR STOPS WORKING WHEN ...   \n",
      "9        DURING BRAKE APPLICATION VEHICLE EXHIBITS A GR...   \n",
      "10           THROTTLE STICKS WHICH CAUSED AN ACCIDENT.  TT   \n",
      "11       DRIVER AIR BAG DID NOT DEPLOY DURING FRONTAL C...   \n",
      "12       REAR MIDDLE SEAT BELT RETRACTOR DOES NOT OPERA...   \n",
      "13       THE STRUT WAS BAD THERE IS A NOISE ON THE PASS...   \n",
      "14       REPLACED TRANSMISSION DUE TO INTERNAL FLUID LE...   \n",
      "15       ERRATIC OPERATION OF ELECTRONIC GAS GAUGE. UPO...   \n",
      "16       AUTOMATIC DOOR LOCKS WHEN USED, WILL NOT RELEA...   \n",
      "17       ENGINE MOTOR MOUNTS FAILED, RESULTING IN ENGIN...   \n",
      "18       ABS BRAKES FAILS TO STOP VEHICLE EFFECTIVELY W...   \n",
      "19       HEADLIGHTS WILL COME ON AND OFF INTERMITTENTLY...   \n",
      "20       VEHICLE SUFFERED SUB-FRAME ABSORBER FAILURE.(P...   \n",
      "21       IT IS HARD TO SHIFT GEARS, SHIFTS ARE MISSED B...   \n",
      "22       DRIVER SIDE SEAT FRAME BROKE IN TWO, CAUSING S...   \n",
      "23       THROTTLE BODY STUCK IN OPEN POSITION, CAUSING ...   \n",
      "24       VEHICLE SUDDENLY ACCELERATED OUT OF CONTROL, B...   \n",
      "25       ABS ANTI-LOCK BRAKE FAILS IN DRY WEATHER WAS I...   \n",
      "26                             HORN PAD SHORTED OUT.   *AK   \n",
      "27       SEAT BELT FAILED IN ABOVE ACCIDENT, RESULTING ...   \n",
      "28       STEERING WHEEL BOLTS LOOSENEDAND ROCKED BACK A...   \n",
      "29       REAR BEAM SUPPORT BY THE FRAME CRACKED, RESULT...   \n",
      "30       WINDSHIELD IS PITTED, CAUSING GLARE IN SUNLIGH...   \n",
      "31       THE SLIDING DOOR FALL OFF THE HINGE FOR THE SE...   \n",
      "...                                                    ...   \n",
      "1347209                                  FRAME RUSTED INTO   \n",
      "1347210  I AM THE OWNER OF HTTP://WWW.SMARTCARSUCKS.COM...   \n",
      "1347211  TL* TAKATA RECALL. THE CONTACT OWNS A 2007 FOR...   \n",
      "1347212  ON JULY 29, 2016, I BACKED THE TRUCK OUT OF TH...   \n",
      "1347213  MY VEHICLE HAS BEEN IN THE DEALER (LIBERTY TOY...   \n",
      "1347214  VEHICLE WAS IN REVERSE BACKING OUT OF AN INCLI...   \n",
      "1347215  I RECEIVED A LETTER INFORMING ME ABOUT THIS SA...   \n",
      "1347218  TAKATA RECALL.. RECEIVED LETTER OF INTENT TO R...   \n",
      "1347219  WHEN FUELING, GAS SPRAYS OUT OF THE FILL HOLE....   \n",
      "1347220  WHILE DRIVING ON A FREEWAY SUDDENLY A PUNGENT ...   \n",
      "1347221  THIS IS A COMPLAINT ABOUT THE TESLA AUTOPILOT....   \n",
      "1347223  P0455 SES LIGHT ALONG WITH FUEL TANK HARD TO F...   \n",
      "1347224  DOOR AJAR SENSOR FAILED AND SAYS DOORS ARE OPE...   \n",
      "1347225  HAS BEEN ALMOST 1 YEAR SINCE AIRBAG RECALL AND...   \n",
      "1347226  TAKATA RECALLTENGO PROBLEMA CON MI CARRO DESDE...   \n",
      "1347227  THE 2011 JEEP GRAND CHEROKEE WILL EXPERIENCE E...   \n",
      "1347230  SIMILAR TO OTHER COMPLAINTS I'VE SEEN AND RELA...   \n",
      "1347231  I WAS MERGING ONTO THE HIGHWAY GOING ~50 MPH. ...   \n",
      "1347234  AUTOMATIC 6-SPEED TRANSMISSION WITH AUXILIARY ...   \n",
      "1347235  WHILE STOPPED AT A RED LIGHT ON A CITY STREET,...   \n",
      "1347236  TAKATA RECALL - WHILE DRIVING HOME FROM WORK A...   \n",
      "1347237  THIS COMPLAINT WAS FILED UNDER THE WRONG VIN N...   \n",
      "1347238  THE MORNING OF DECEMBER 22,2016 ABOUT 7:30 AM ...   \n",
      "1347240  AFTER STARTING THE CAR AND MOVING A SHORT DIST...   \n",
      "1347242  WHILE MAKING A SHARP LEFT TURN ON A CITY STREE...   \n",
      "1347243  TAKATA RECALL.  THE VEHICLE HAS NOT HAD AN AIR...   \n",
      "1347244  TAKATA RECALL DEFECTIVE/FAULTY AIR BAGS. AIR B...   \n",
      "1347245  WHILE DRIVING, THE SUNROOF BUSTED OUT. GLASS W...   \n",
      "1347247  PASSENGER SIDE AIRBAG IS NOT IN THE ON POSITIO...   \n",
      "1347248  TAKATA RECALL  STILL NO SOLUTION.  I CAN'T TRA...   \n",
      "\n",
      "                              manufacturer           make              model  \\\n",
      "0                       General Motors LLC            GMC             SONOMA   \n",
      "1               Nissan North America, Inc.         NISSAN             MAXIMA   \n",
      "2                       Ford Motor Company           FORD             RANGER   \n",
      "4                         MAZDA MOTOR CORP          MAZDA                626   \n",
      "5                       Ford Motor Company        LINCOLN           TOWN CAR   \n",
      "7                                   GERRY           GERRY  CHILD SAFETY SEAT   \n",
      "8                       FORD MOTOR COMPANY           FORD              PROBE   \n",
      "9                       Ford Motor Company           FORD           WINDSTAR   \n",
      "10                    GENERAL MOTORS CORP.      CHEVROLET            CAPRICE   \n",
      "11        HONDA (AMERICAN HONDA MOTOR CO.)          HONDA              CIVIC   \n",
      "12                      General Motors LLC      CHEVROLET             LUMINA   \n",
      "13              NISSAN NORTH AMERICA, INC.         NISSAN             MAXIMA   \n",
      "14                    GENERAL MOTORS CORP.        PONTIAC           GRAND AM   \n",
      "15                      FORD MOTOR COMPANY           FORD           AEROSTAR   \n",
      "16                      FORD MOTOR COMPANY           FORD             TAURUS   \n",
      "17             DAIMLERCHRYSLER CORPORATION          DODGE             SHADOW   \n",
      "18                    GENERAL MOTORS CORP.     OLDSMOBILE            ACHIEVA   \n",
      "19                      FORD MOTOR COMPANY        MERCURY             COUGAR   \n",
      "20                    GENERAL MOTORS CORP.      CHEVROLET          CELEBRITY   \n",
      "21             DAIMLERCHRYSLER CORPORATION          EAGLE              TALON   \n",
      "22             DAIMLERCHRYSLER CORPORATION          DODGE            CARAVAN   \n",
      "23                    GENERAL MOTORS CORP.        PONTIAC           GRAND AM   \n",
      "24                 MERCEDES-BENZ USA, LLC.  MERCEDES BENZ                560   \n",
      "25             DAIMLERCHRYSLER CORPORATION          DODGE            CARAVAN   \n",
      "26                    GENERAL MOTORS CORP.        PONTIAC           GRAND AM   \n",
      "27             DAIMLERCHRYSLER CORPORATION          DODGE            CARAVAN   \n",
      "28        HONDA (AMERICAN HONDA MOTOR CO.)          HONDA             ACCORD   \n",
      "29                    GENERAL MOTORS CORP.      CHEVROLET         LUMINA APV   \n",
      "30        TOYOTA MOTOR NORTH AMERICA, INC.          LEXUS              ES250   \n",
      "31             DAIMLERCHRYSLER CORPORATION       PLYMOUTH            VOYAGER   \n",
      "...                                    ...            ...                ...   \n",
      "1347209                 Ford Motor Company           FORD             RANGER   \n",
      "1347210          SMART USA DISTRIBUTOR LLC          SMART             FORTWO   \n",
      "1347211                 Ford Motor Company           FORD            MUSTANG   \n",
      "1347212              Chrysler (FCA US LLC)            RAM               1500   \n",
      "1347213           Toyota Motor Corporation         TOYOTA             TUNDRA   \n",
      "1347214           Toyota Motor Corporation         TOYOTA             SIENNA   \n",
      "1347215              Chrysler (FCA US LLC)          DODGE            AVENGER   \n",
      "1347218                 Ford Motor Company        LINCOLN             ZEPHYR   \n",
      "1347219              Chrysler (FCA US LLC)           JEEP           WRANGLER   \n",
      "1347220                 Ford Motor Company           FORD               EDGE   \n",
      "1347221                 Tesla Motors, Inc.          TESLA            MODEL S   \n",
      "1347223                 General Motors LLC            GMC              ENVOY   \n",
      "1347224                 Ford Motor Company           FORD               EDGE   \n",
      "1347225            Mercedes-Benz USA, LLC.  MERCEDES BENZ              ML350   \n",
      "1347226         Nissan North America, Inc.         NISSAN             ALTIMA   \n",
      "1347227              Chrysler (FCA US LLC)           JEEP     GRAND CHEROKEE   \n",
      "1347230              Chrysler (FCA US LLC)           JEEP     GRAND CHEROKEE   \n",
      "1347231         Nissan North America, Inc.         NISSAN              ROGUE   \n",
      "1347234                 General Motors LLC      CHEVROLET           CORVETTE   \n",
      "1347235                 General Motors LLC      CHEVROLET             COBALT   \n",
      "1347236                 General Motors LLC      CHEVROLET             MALIBU   \n",
      "1347237                 General Motors LLC      CHEVROLET           CORVETTE   \n",
      "1347238              Hyundai Motor America        HYUNDAI             SONATA   \n",
      "1347240  Volkswagen Group of America, Inc.           AUDI                 A3   \n",
      "1347242                 Ford Motor Company        MERCURY     MARINER HYBRID   \n",
      "1347243  Volkswagen Group of America, Inc.           AUDI       A4 CABRIOLET   \n",
      "1347244              Chrysler (FCA US LLC)           JEEP     GRAND CHEROKEE   \n",
      "1347245              Hyundai Motor America        HYUNDAI             SONATA   \n",
      "1347247         Nissan North America, Inc.         NISSAN           FRONTIER   \n",
      "1347248  Volkswagen Group of America, Inc.           AUDI                 Q5   \n",
      "\n",
      "        antilock fire  injured  death  compound  \n",
      "0            NaN    N      0.0    0.0    0.0000  \n",
      "1            NaN    N      0.0    0.0    0.0000  \n",
      "2            NaN    N      0.0    0.0   -0.4019  \n",
      "4            NaN    N      1.0    0.0   -0.7650  \n",
      "5            NaN    N      0.0    0.0   -0.4215  \n",
      "7            NaN  NaN      0.0    0.0    0.0000  \n",
      "8            NaN    N      0.0    0.0   -0.4767  \n",
      "9            NaN    N      0.0    0.0    0.0000  \n",
      "10           NaN    N      0.0    0.0    0.0000  \n",
      "11           NaN    N      0.0    0.0   -0.5423  \n",
      "12           NaN    N      0.0    0.0   -0.5423  \n",
      "13           NaN    N      0.0    0.0   -0.3182  \n",
      "14           NaN    N      0.0    0.0    0.0000  \n",
      "15           NaN    N      0.0    0.0   -0.5106  \n",
      "16           NaN    N      0.0    0.0   -0.6249  \n",
      "17           NaN    N      0.0    0.0    0.0000  \n",
      "18           NaN    N      0.0    0.0   -0.4939  \n",
      "19           NaN    N      0.0    0.0   -0.0516  \n",
      "20           NaN    N      0.0    0.0   -0.4215  \n",
      "21           NaN    N      0.0    0.0   -0.2500  \n",
      "22           NaN    N      0.0    0.0   -0.4767  \n",
      "23           NaN    N      0.0    0.0   -0.7964  \n",
      "24           NaN    N      0.0    0.0    0.0000  \n",
      "25           NaN    N      0.0    0.0   -0.8481  \n",
      "26           NaN    N      0.0    0.0   -0.5423  \n",
      "27           NaN    N      1.0    0.0    0.1027  \n",
      "28           NaN    N      0.0    0.0    0.0000  \n",
      "29           NaN    N      0.0    0.0    0.0000  \n",
      "30           NaN    N      0.0    0.0    0.0000  \n",
      "31           NaN    N      0.0    0.0    0.0000  \n",
      "...          ...  ...      ...    ...       ...  \n",
      "1347209        N    N      NaN    NaN       NaN  \n",
      "1347210        N    Y      NaN    NaN       NaN  \n",
      "1347211        N    N      NaN    NaN       NaN  \n",
      "1347212        N    N      NaN    NaN       NaN  \n",
      "1347213        N    N      NaN    NaN       NaN  \n",
      "1347214        N    N      NaN    NaN       NaN  \n",
      "1347215        N    N      NaN    NaN       NaN  \n",
      "1347218        N    N      NaN    NaN       NaN  \n",
      "1347219        N    N      NaN    NaN       NaN  \n",
      "1347220        N    N      NaN    NaN       NaN  \n",
      "1347221        N    N      NaN    NaN       NaN  \n",
      "1347223        N    N      NaN    NaN       NaN  \n",
      "1347224        N    N      NaN    NaN       NaN  \n",
      "1347225        N    N      NaN    NaN       NaN  \n",
      "1347226        N    N      NaN    NaN       NaN  \n",
      "1347227        N    N      NaN    NaN       NaN  \n",
      "1347230        N    N      NaN    NaN       NaN  \n",
      "1347231        N    N      NaN    NaN       NaN  \n",
      "1347234        N    N      NaN    NaN       NaN  \n",
      "1347235        N    N      NaN    NaN       NaN  \n",
      "1347236        N    N      NaN    NaN       NaN  \n",
      "1347237        N    N      NaN    NaN       NaN  \n",
      "1347238        N    N      NaN    NaN       NaN  \n",
      "1347240        N    N      NaN    NaN       NaN  \n",
      "1347242        N    N      NaN    NaN       NaN  \n",
      "1347243        N    N      NaN    NaN       NaN  \n",
      "1347244        N    N      NaN    NaN       NaN  \n",
      "1347245        N    N      NaN    NaN       NaN  \n",
      "1347247        N    N      NaN    NaN       NaN  \n",
      "1347248        N    N      NaN    NaN       NaN  \n",
      "\n",
      "[1055861 rows x 9 columns]\n"
     ]
    }
   ],
   "source": [
    "print(frankenFrame)"
   ]
  },
  {
   "cell_type": "code",
   "execution_count": 107,
   "metadata": {
    "collapsed": false
   },
   "outputs": [
    {
     "name": "stderr",
     "output_type": "stream",
     "text": [
      "C:\\Users\\owen\\Anaconda3\\lib\\site-packages\\numpy\\lib\\function_base.py:3834: RuntimeWarning: Invalid value encountered in percentile\n",
      "  RuntimeWarning)\n"
     ]
    },
    {
     "data": {
      "text/html": [
       "<div>\n",
       "<table border=\"1\" class=\"dataframe\">\n",
       "  <thead>\n",
       "    <tr style=\"text-align: right;\">\n",
       "      <th></th>\n",
       "      <th>injured</th>\n",
       "      <th>death</th>\n",
       "      <th>compound</th>\n",
       "    </tr>\n",
       "  </thead>\n",
       "  <tbody>\n",
       "    <tr>\n",
       "      <th>count</th>\n",
       "      <td>497509.000000</td>\n",
       "      <td>486487.000000</td>\n",
       "      <td>88631.000000</td>\n",
       "    </tr>\n",
       "    <tr>\n",
       "      <th>mean</th>\n",
       "      <td>0.139053</td>\n",
       "      <td>0.009671</td>\n",
       "      <td>-0.289831</td>\n",
       "    </tr>\n",
       "    <tr>\n",
       "      <th>std</th>\n",
       "      <td>0.801169</td>\n",
       "      <td>0.453309</td>\n",
       "      <td>0.328977</td>\n",
       "    </tr>\n",
       "    <tr>\n",
       "      <th>min</th>\n",
       "      <td>0.000000</td>\n",
       "      <td>0.000000</td>\n",
       "      <td>-0.990700</td>\n",
       "    </tr>\n",
       "    <tr>\n",
       "      <th>25%</th>\n",
       "      <td>NaN</td>\n",
       "      <td>NaN</td>\n",
       "      <td>NaN</td>\n",
       "    </tr>\n",
       "    <tr>\n",
       "      <th>50%</th>\n",
       "      <td>NaN</td>\n",
       "      <td>NaN</td>\n",
       "      <td>NaN</td>\n",
       "    </tr>\n",
       "    <tr>\n",
       "      <th>75%</th>\n",
       "      <td>NaN</td>\n",
       "      <td>NaN</td>\n",
       "      <td>NaN</td>\n",
       "    </tr>\n",
       "    <tr>\n",
       "      <th>max</th>\n",
       "      <td>99.000000</td>\n",
       "      <td>99.000000</td>\n",
       "      <td>0.941800</td>\n",
       "    </tr>\n",
       "  </tbody>\n",
       "</table>\n",
       "</div>"
      ],
      "text/plain": [
       "             injured          death      compound\n",
       "count  497509.000000  486487.000000  88631.000000\n",
       "mean        0.139053       0.009671     -0.289831\n",
       "std         0.801169       0.453309      0.328977\n",
       "min         0.000000       0.000000     -0.990700\n",
       "25%              NaN            NaN           NaN\n",
       "50%              NaN            NaN           NaN\n",
       "75%              NaN            NaN           NaN\n",
       "max        99.000000      99.000000      0.941800"
      ]
     },
     "execution_count": 107,
     "metadata": {},
     "output_type": "execute_result"
    }
   ],
   "source": [
    "frankenFrame.describe() "
   ]
  },
  {
   "cell_type": "code",
   "execution_count": 138,
   "metadata": {
    "collapsed": false
   },
   "outputs": [
    {
     "data": {
      "image/png": "[encoded data removed]",
      "text/plain": [
       "<matplotlib.figure.Figure at 0x1da72cb4908>"
      ]
     },
     "metadata": {},
     "output_type": "display_data"
    }
   ],
   "source": [
    "frankenFrame['compound'].plot.hist(stacked = True, bins = 100)\n",
    "\n",
    "plt.show()"
   ]
  },
  {
   "cell_type": "code",
   "execution_count": 130,
   "metadata": {
    "collapsed": false
   },
   "outputs": [],
   "source": [
    "sortFrame = frankenFrame.sort_values(by = 'compound', ascending=[True])"
   ]
  },
  {
   "cell_type": "code",
   "execution_count": 133,
   "metadata": {
    "collapsed": false
   },
   "outputs": [],
   "source": [
    "sortFrame.reset_index(drop=True, inplace=True)"
   ]
  },
  {
   "cell_type": "code",
   "execution_count": 140,
   "metadata": {
    "collapsed": false
   },
   "outputs": [
    {
     "data": {
      "image/png": "[encoded data removed]",
      "text/plain": [
       "<matplotlib.figure.Figure at 0x1da75eb40f0>"
      ]
     },
     "metadata": {},
     "output_type": "display_data"
    }
   ],
   "source": [
    "sortFrame['compound'].plot()\n",
    "plt.axis([0, 100000, -1.0, 1.0])\n",
    "plt.show()"
   ]
  },
  {
   "cell_type": "code",
   "execution_count": null,
   "metadata": {
    "collapsed": false
   },
   "outputs": [],
   "source": [
    "checkManu = frankenFrame.groupby('model', as_index = False)['death'].mean()\n",
    "manuCounts = frankenFrame['model'].value_counts()\n",
    "remove = manuCounts[manuCounts <= 20].index\n",
    "checkManu['model'].replace(remove, np.nan, inplace = True) "
   ]
  },
  {
   "cell_type": "code",
   "execution_count": 176,
   "metadata": {
    "collapsed": false
   },
   "outputs": [
    {
     "name": "stdout",
     "output_type": "stream",
     "text": [
      "                                                                                                                                                                                                                                                                                                              string  \\\n",
      "0                                                                                                                                                                                                                               VEHICLE STALLS AT HIGH SPEED, RESULTING IN LOSS OF STEERING AND BRAKING ABILITY.  TT   \n",
      "1                                                                                                                                                                                                                                                                VEHICLES SUN ROOF GLASS FLEW OFF WHILE DRIVING.  TT   \n",
      "2                                                                                                                                                                                                                                                                 EXHAUST SYSTEM FAILS; PLEASE DESCRIBE DETAILS.  TT   \n",
      "4                                                                                                                                                       WHEN REAR ENDED WITH FOOT ON BRAKE, DRIVERS SHOULDER BELT DIDN'T RESTRAIN FROM MAKING CONTACT, RESULTING IN AN INJURY. ESTIMATED SPEED OF IMPACT 30 MPH.  TT   \n",
      "5                                                                                                                                                                     BRAKE PEDAL PUSH ROD RETAINER WAS NOT PROPERLY INSTALLED, CAUSING BRAKES TO FAIL, RESULTING IN AN ACCIDENT AFTER RECALL REPAIRS (94V-129). *AK   \n",
      "7                                                                                                                                                                                                                                                                      STRESS CRACKS AROUND FRONT PLASTIC HINGE.  TT   \n",
      "8                                                                                                                                                                                                         DRIVER SEAT BELT RETRACTOR STOPS WORKING WHEN DOOR IS CLOSED CAN HEAR MOTOR CLIP AND GO BACK HALF WAY.  TT   \n",
      "9                                                                                                                                                                                                                                                    DURING BRAKE APPLICATION VEHICLE EXHIBITS A GRINDING NOISE.  TT   \n",
      "10                                                                                                                                                                                                                                                                     THROTTLE STICKS WHICH CAUSED AN ACCIDENT.  TT   \n",
      "11                                                                                                                                                                                                                                                        DRIVER AIR BAG DID NOT DEPLOY DURING FRONTAL COLLISON.  TT   \n",
      "12                                                                                                                                                                                                                                                             REAR MIDDLE SEAT BELT RETRACTOR DOES NOT OPERATE.  TT   \n",
      "13                                                                                                                                                                                                               THE STRUT WAS BAD THERE IS A NOISE ON THE PASSENGER SIDE DOOR AND THE ENGINE LIGHT MALFUNCTION.  TT   \n",
      "14                                                                                                                                                                                                                          REPLACED TRANSMISSION DUE TO INTERNAL FLUID LEAK IN THE LOW REVERSE CLUTCH CIRCUIT.  *AK   \n",
      "15                                                                                                                                                                                                                    ERRATIC OPERATION OF ELECTRONIC GAS GAUGE. UPON STARTING A GALLON OF GAS POSSIBLY IS LOST.  TT   \n",
      "16                                                                                                                                                                                                        AUTOMATIC DOOR LOCKS WHEN USED, WILL NOT RELEASE FROM ANY OF THE FOUR DOORS WHEN ENGINE IS TURNED OFF.  TT   \n",
      "17                                                                                                                                                                                                                                                       ENGINE MOTOR MOUNTS FAILED, RESULTING IN ENGINE NOISE.  *AK   \n",
      "18                                                                                                                                                    ABS BRAKES FAILS TO STOP VEHICLE EFFECTIVELY WHEN APPLIED CAUSING EXTENDED STOPPING. FRONTEND COLLISION AT 45-50MPH. NO INJURIES. PLEASE DESCRIBE DETAILS.  TT   \n",
      "19                                                                                                                                                                                                                                                               HEADLIGHTS WILL COME ON AND OFF INTERMITTENTLY.  TT   \n",
      "20                                                                                                                                                                                                                                                       VEHICLE SUFFERED SUB-FRAME ABSORBER FAILURE.(PE94-048).  TT   \n",
      "21                                                                                                                                                                                          IT IS HARD TO SHIFT GEARS, SHIFTS ARE MISSED BECAUSE TRANSMISSION WILL NOT ENGAGE IN REVERSE/1ST/2ND/3RD/4TH GEARS.  *AK   \n",
      "22                                                                                                                                                                                                               DRIVER SIDE SEAT FRAME BROKE IN TWO, CAUSING SEAT NOT TO BE ABLE REMAIN IN AN UPRIGHT POSITION.  TT   \n",
      "23                                                                                                                                                                                                                          THROTTLE BODY STUCK IN OPEN POSITION, CAUSING VEHICLE TO ACCELERATE OUT OF CONTROL.  *AK   \n",
      "24                                                                                                                                                                                                                    VEHICLE SUDDENLY ACCELERATED OUT OF CONTROL, BRAKE DID NOT RESPOND, RESULTING IN ACCIDENT.  TT   \n",
      "25                                                                                                                                                  ABS ANTI-LOCK BRAKE FAILS IN DRY WEATHER WAS IN PARKING LOT ANOTHER CAR WAS PULLING OUT HAD TO TURN THE WHEEL TO KEEP FROM HAVING AN ACCIDENT VAN WOULDN'T STOP.   \n",
      "26                                                                                                                                                                                                                                                                                       HORN PAD SHORTED OUT.   *AK   \n",
      "27                                                                                                                                                                                                                                                  SEAT BELT FAILED IN ABOVE ACCIDENT, RESULTING IN AN INJURY.  *AK   \n",
      "28                                                                                                                                                                 STEERING WHEEL BOLTS LOOSENEDAND ROCKED BACK AND FORTH, RUINING THE THREADS AND CAUSING BOLTS TO FALL OUT, MAKING IT DIFFICULT TO TURN WHEEL.  AK   \n",
      "29                                                                                                                                                                                                                                   REAR BEAM SUPPORT BY THE FRAME CRACKED, RESULTING IN CONTROL LOST AT 10MPH.  TT   \n",
      "30                                                                                                                                                                                                                                                              WINDSHIELD IS PITTED, CAUSING GLARE IN SUNLIGHT.  TT   \n",
      "31                                                                                                                                                               THE SLIDING DOOR FALL OFF THE HINGE FOR THE SECOND TIME AND THE WINDSHEILD WIPER IN THE REAR DOESN'T WORK AND THE DOOR HANDLE IN SIDE FELL OFF.  TT   \n",
      "...                                                                                                                                                                                                                                                                                                              ...   \n",
      "1347209                                                                                                                                                                                                                                                                                            FRAME RUSTED INTO   \n",
      "1347210  I AM THE OWNER OF HTTP://WWW.SMARTCARSUCKS.COM . I CREATED THIS WEBSITE WHICH HAS DOCUMENTED EVERY INSTANCE OF A SMART CAR FIRE I HAVE BEEN ABLE TO FIND ON THE WEB SINCE 2012. MY COMPLETE STORY OF WHAT HAPPENED AND WHAT FOLLOWED IS AT THE BEGINNING OF THAT WEBSITE. AT THE TIME I BELIEVED THAT EV...   \n",
      "1347211  TL* TAKATA RECALL. THE CONTACT OWNS A 2007 FORD MUSTANG. THE CONTACT RECEIVED NOTIFICATION OF NHTSA CAMPAIGN NUMBER: 16V384000 (AIR BAGS) AND STATED THAT THE PART NEEDED FOR THE REPAIR WAS NOT AVAILABLE. THE CONTACT STATED THAT THE MANUFACTURER EXCEEDED A REASONABLE AMOUNT OF TIME FOR THE RECALL...   \n",
      "1347212  ON JULY 29, 2016, I BACKED THE TRUCK OUT OF THE GARAGE AND PLACED THE ROTARY SHIFT KNOB IN PARK. I STEPPED OUT OF THE VEHICLE WITH THE ENGINE RUNNING TO GRAB SOMETHING OUT OF THE GARAGE. AS I STEPPED POUT THE VEHICLE START MOVING FORWARD AT IDLE SPEED. I TRIED TO STEP IN ( THE DOOR WAS STILL OPE...   \n",
      "1347213  MY VEHICLE HAS BEEN IN THE DEALER (LIBERTY TOYOTA) FOR THE PAST THREE MONTHS FOR ECU PASSENGER AIRBAG ISSUES.  TO DATE, TOYOTA CORPORATE ENGINEERS HAVE NOT BEEN ABLE TO FIX THE ISSUE.  MY SERVICE MANAGER TOLD ME THAT THIS ISSUE HAS HAPPENED IN TWO OTHER STATES IN THE COUNTRY.  I ELEVATED THE PRO...   \n",
      "1347214  VEHICLE WAS IN REVERSE BACKING OUT OF AN INCLINED DRIVEWAY INTO A CULDASAC. THE BRAKES WOULD NOT ENGAGE TO STOP THE CAR. THE DEALERSHIP TOWED THE CAR AND EXAMINED IT. THEY SAID THEIR WERE 8 CODES THAT WERE SHOWING. THE DEALERSHIP SPENT A DAY EXAMINING THE CAR. THEY TOLD US THEY FOUND NOTHING WRO...   \n",
      "1347215                                                                            I RECEIVED A LETTER INFORMING ME ABOUT THIS SAFETY RECALL IN OCTOBER 2016. AS OF YET THERE IS NO FIX AND THIS IS MY ONLY VEHICLE FOR TRANSPORTATION AS OF NOW. THIS IS UNACCEPTABLE AND TAKING TOO LONG FOR SUCH A SAFETY RECALL.   \n",
      "1347218                                                                                                                                                                                                  TAKATA RECALL.. RECEIVED LETTER OF INTENT TO REPLACE AIRBAG LAST YEAR. HAVE NOT BEEN  CONTACTED FOR REPAIR.   \n",
      "1347219  WHEN FUELING, GAS SPRAYS OUT OF THE FILL HOLE. THIS CAUSES A DANGEROUS CONDITION FOR THE ENVIRONMENT AND FOR THE PEOPLE IT SPRAYS ON. FCA SAYS I NEED A NEW FUEL TANK.($1100.00) THEY COULD NOT FIND THE PROBLEM WHEN THE WARRANTY WAS IN EFFECT BUT NOW THAT THE WARRANTY HAS EXPIRED THEY KNOW EXACTLY...   \n",
      "1347220  WHILE DRIVING ON A FREEWAY SUDDENLY A PUNGENT SMELL FILLED THE CABIN AND THAT WAS UNBEARABLE ALONG WITH A HUGE CRACKING SOUND THAT DIDN'T STOP... TOOK THE NEXT EXIT AND STOPPED AT A PARKING SPOT. TOOK TO THE FORD DEALER THE SAME DAY AND THEY DIAGNOSED IMMEDIATELY THAT THE PTU NEEDS TO BE REPLACE...   \n",
      "1347221  THIS IS A COMPLAINT ABOUT THE TESLA AUTOPILOT.  PLEASE WATCH THIS VIDEO:  HTTPS://WWW.YOUTUBE.COM/WATCH?V=0_TTKKKI0O8  THE CAR IS VEERING ALL OVER THE ROAD AND RANDOMLY SLOWING AND ACCELERATING CREATING A HUGE HAZARD TO OTHER DRIVERS.    THIS WAS FILMED IN UK BUT THIS CAR AND AUTOPILOT IS SOLD A...   \n",
      "1347223  P0455 SES LIGHT ALONG WITH FUEL TANK HARD TO FILL,FUEL BURPING BACK UP FILLER NECK WHEN CAP IS REMOVED FOR FILLING TANK,FUEL AROUND TO OF FILLER TUBE AT GAS CAP BEFORE REMOVAL FOR FILLING,FUEL SPELL WITH FUEL CAP ON,FIRST DAY THE P0455 SES LIGHT CAME ON REPLACE THE FUEL CAP WITH FACTORY AC DELCO...   \n",
      "1347224                                                                                                                                                                       DOOR AJAR SENSOR FAILED AND SAYS DOORS ARE OPEN WHEN THEY ARE LATCHED. YOU ARE NOT ABLE TO LOCK THE DOORS WHEN DRIVING WITH THIS ALARM   \n",
      "1347225                                                                                                                                                                                                                                          HAS BEEN ALMOST 1 YEAR SINCE AIRBAG RECALL AND STILL NO RESOLUTION.   \n",
      "1347226                                                                                                        TAKATA RECALLTENGO PROBLEMA CON MI CARRO DESDE Q LO AGARRE SIEMPRE FALLABA DE LO MISMO ENGINE Y HASTA AHORA SE DESCOMPUSO Y NO PUEDO ARREGLARLO Q TENGO Q HACER O SOBRE EL PROGRAMA RECALL .GRACIAS     \n",
      "1347227  THE 2011 JEEP GRAND CHEROKEE WILL EXPERIENCE ENGINE STALL WHILE THE VEHICLE IS IN MOTION, AT TIMES IN EXCESS OF 30 MPH. THIS CAUSES A LOSS OF POWER STEERING AND POWER BRAKE FUNCTIONS. IT HAS LIKEWISE STALLED AT STOP LIGHTS/SIGNALS WHICH IS EQUALLY DANGEROUS WHEN VEHICLES ARE APPROACHING FROM BEH...   \n",
      "1347230  SIMILAR TO OTHER COMPLAINTS I'VE SEEN AND RELATED TO THE TIPM / FUEL PUMP RELAY IN MY OPINION . CAR CRANKS BUT FAILS TO START , HOWEVER WITH A LITTLE PATIENCE AND RE TRYING IT OCCASIONALLY WORKS . THE BATTERY WAS REPLACED AND STILL PERSISTED . THEN THE KEYS WERE REPLACED AND STILL PERSISTED . TH...   \n",
      "1347231  I WAS MERGING ONTO THE HIGHWAY GOING ~50 MPH. WENT TO ACCELERATE AND THE ACCELERATER DID NOT SEEM TO HAVE THE SAME TENSION. THEN ALL LIGHTS CAME ON THE DASH (CHECK ENGINE, OIL, BATTERY ETC) THEN THERE WAS NO ACCELERATION. PULLED TO THE SHOULDER, TURNED THE CAR OFF, BACK ON AND EVERYTHING SEEMED ...   \n",
      "1347234  AUTOMATIC 6-SPEED TRANSMISSION WITH AUXILIARY PADDLE SHIFTERS ON STEERING WHEEL.  WHEN THE CAR IS STOPPED AND IN PARK, THE CONSOLE STICK SHIFTER GETS STUCK AT RANDOM TIMES AFTER CAR HAS BEEN STOPPED/PARKED AND I CAN'T PUT THE STUCK SHIFTER INTO GEAR (IT WON'T BUDGE OUT OF PARK).  IF THE VEHICLE ...   \n",
      "1347235  WHILE STOPPED AT A RED LIGHT ON A CITY STREET, THE ENGINE OF MY 2009 CHEVROLET COBALT STALLED AND DESPITE SEVERAL ATTEMPTS, WOULD NOT RESTART. THERE WAS NO WARNING, NO CHECK ENGINE LIGHT, AND THE CAR HAD BEEN FULLY FUNCTIONING THE ENTIRE WEEK LEADING UP TO THE PROBLEM. IT WAS TOWED TO A MECHANIC...   \n",
      "1347236  TAKATA RECALL - WHILE DRIVING HOME FROM WORK AT NIGHT MY DAUGHTER (SOLE OCCUPANT) HEARD A LOUD EXPLOSION AND WINDSHIELD SHATTERED. SHE LOOKED TO RIGHT AND SAW THAT THE PASSENGER AIRBAG HAD DEPLOYED. SHE HAD NOT HIT ANYTHING INCLUDING BUMPS OR POT-HOLE. NOT SURE IF IT'S A TAKATA BUT DEPLOYMENT CO...   \n",
      "1347237  THIS COMPLAINT WAS FILED UNDER THE WRONG VIN NO.  THE COMPLAINT IS BEING SUBMITTED  AGAIN WITH THE TYPO CORRECTED WITH THE CORRECT VIN 1G1YY26U275131535.  THE INCORRECT VIN NO. WAS SUBMITTED WITH MY COMPLAINT # 10944956.  THE DETAILS WERE SUBMITTED WITH COMPLAINT #10944956 AND ALL OTHER INFO SUB...   \n",
      "1347238                                  THE MORNING OF DECEMBER 22,2016 ABOUT 7:30 AM HEADED TO WORK, SUDDENLY I HEAR SOMETHING SOUNDING LIKE A GUN SHOT NEAR MY HEAD!! MY SUNROOF HAD EXPLODED!! SCARED THE HECK OUT OF ME!! I WAS DRIVING ABOUT 45-55 MPH ON A HIGHWAY. I DON'T KNOW HOW I DID NOT WRECK MY CAR!!   \n",
      "1347240  AFTER STARTING THE CAR AND MOVING A SHORT DISTANCE, THE DASH DISPLAY SHOWED MULTIPLE WARNINGS REGARDING THE EXTERIOR LIGHTS. APPROXIMATELY 12 EXTERIOR LIGHTS HAD ALL GONE OUT AT ONCE. AFTER SOME RESEARCH ON THE ISSUE I CHECKED THE FUSE BOX IN THE ENGINE BAY AND FUSE F16 (30A) HAD MELTED WITH RES...   \n",
      "1347242             WHILE MAKING A SHARP LEFT TURN ON A CITY STREET THE POWER STEERING ASSIST SYSTEM FAILED COMPLETELY! I BARELY AVOIDED A COLLISION. APPARENTLY THERE HAVE BEEN THOUSANDS OF SIMILAR FAILURES. WHY HASN'T FORD PAID FOR A REPAIR ON A SYSTEM WHICH IS OBVIOUSLY FLAWED AND DANGEROUS WHEN IT FAILS!   \n",
      "1347243  TAKATA RECALL.  THE VEHICLE HAS NOT HAD AN AIRBAG DEPLOYMENT YET AT THIS TIME.  IT HAS BEEN OVER A YEAR SINCE THE VEHICLE WAS DETERMINED TO HAVE THE DEFECTIVE AIRBAGS, BUT AUDI STILL INDICATES THAT A SOLUTION STILL IS NOT AVAILABLE.  ARE WE TO SIMPLY WAIT UNTIL SOMETHING DRASTIC HAPPENS OR IS TH...   \n",
      "1347244                                                                                                                                                                                       TAKATA RECALL DEFECTIVE/FAULTY AIR BAGS. AIR BAG LIGHT RANDOMLY GOES ON AND OFF, ACTIVATING OR TURNING OFF THE AIRBAGS   \n",
      "1347245                                                                           WHILE DRIVING, THE SUNROOF BUSTED OUT. GLASS WENT ALL UNSIDE THE VEHICLE WHILE I WAS IN HEAVY TRAFFIC ON THE INTERSTATE. I ALMOST WRECKED THE VEHICLE AND THE GLASS SCRATCHED UP THE PAINT SOURROUNDING THE VEHICLE AND THE TRUNK.   \n",
      "1347247  PASSENGER SIDE AIRBAG IS NOT IN THE ON POSITION (LIGHT STAYS ON) WHEN SMALL STATURE FEMALE IS SITTING IN SEAT; SHE TRIED VARIOUS POSITIONS TO ACTIVATE IT (TURN OFF LIGHT) BUT WAS UNSUCCESSFUL; IT APPEARS THAT THE SENSORS ARE NOT SENSITIVE ENOUGH TO PICK UP THE WEIGHT OF A PERSON UNDER 125 TO 130...   \n",
      "1347248                                                                                                                                                                  TAKATA RECALL  STILL NO SOLUTION.  I CAN'T TRADE THIS VEHICLE IN AND I'M AFRAID TO DRIVE.  AUDI DOESN'T KNOW WHEN THEIR WILL BE A SOLUTION.   \n",
      "\n",
      "                              manufacturer           make              model  \\\n",
      "0                       General Motors LLC            GMC             SONOMA   \n",
      "1               Nissan North America, Inc.         NISSAN             MAXIMA   \n",
      "2                       Ford Motor Company           FORD             RANGER   \n",
      "4                         MAZDA MOTOR CORP          MAZDA                626   \n",
      "5                       Ford Motor Company        LINCOLN           TOWN CAR   \n",
      "7                                   GERRY           GERRY  CHILD SAFETY SEAT   \n",
      "8                       FORD MOTOR COMPANY           FORD              PROBE   \n",
      "9                       Ford Motor Company           FORD           WINDSTAR   \n",
      "10                    GENERAL MOTORS CORP.      CHEVROLET            CAPRICE   \n",
      "11        HONDA (AMERICAN HONDA MOTOR CO.)          HONDA              CIVIC   \n",
      "12                      General Motors LLC      CHEVROLET             LUMINA   \n",
      "13              NISSAN NORTH AMERICA, INC.         NISSAN             MAXIMA   \n",
      "14                    GENERAL MOTORS CORP.        PONTIAC           GRAND AM   \n",
      "15                      FORD MOTOR COMPANY           FORD           AEROSTAR   \n",
      "16                      FORD MOTOR COMPANY           FORD             TAURUS   \n",
      "17             DAIMLERCHRYSLER CORPORATION          DODGE             SHADOW   \n",
      "18                    GENERAL MOTORS CORP.     OLDSMOBILE            ACHIEVA   \n",
      "19                      FORD MOTOR COMPANY        MERCURY             COUGAR   \n",
      "20                    GENERAL MOTORS CORP.      CHEVROLET          CELEBRITY   \n",
      "21             DAIMLERCHRYSLER CORPORATION          EAGLE              TALON   \n",
      "22             DAIMLERCHRYSLER CORPORATION          DODGE            CARAVAN   \n",
      "23                    GENERAL MOTORS CORP.        PONTIAC           GRAND AM   \n",
      "24                 MERCEDES-BENZ USA, LLC.  MERCEDES BENZ                560   \n",
      "25             DAIMLERCHRYSLER CORPORATION          DODGE            CARAVAN   \n",
      "26                    GENERAL MOTORS CORP.        PONTIAC           GRAND AM   \n",
      "27             DAIMLERCHRYSLER CORPORATION          DODGE            CARAVAN   \n",
      "28        HONDA (AMERICAN HONDA MOTOR CO.)          HONDA             ACCORD   \n",
      "29                    GENERAL MOTORS CORP.      CHEVROLET         LUMINA APV   \n",
      "30        TOYOTA MOTOR NORTH AMERICA, INC.          LEXUS              ES250   \n",
      "31             DAIMLERCHRYSLER CORPORATION       PLYMOUTH            VOYAGER   \n",
      "...                                    ...            ...                ...   \n",
      "1347209                 Ford Motor Company           FORD             RANGER   \n",
      "1347210          SMART USA DISTRIBUTOR LLC          SMART             FORTWO   \n",
      "1347211                 Ford Motor Company           FORD            MUSTANG   \n",
      "1347212              Chrysler (FCA US LLC)            RAM               1500   \n",
      "1347213           Toyota Motor Corporation         TOYOTA             TUNDRA   \n",
      "1347214           Toyota Motor Corporation         TOYOTA             SIENNA   \n",
      "1347215              Chrysler (FCA US LLC)          DODGE            AVENGER   \n",
      "1347218                 Ford Motor Company        LINCOLN             ZEPHYR   \n",
      "1347219              Chrysler (FCA US LLC)           JEEP           WRANGLER   \n",
      "1347220                 Ford Motor Company           FORD               EDGE   \n",
      "1347221                 Tesla Motors, Inc.          TESLA            MODEL S   \n",
      "1347223                 General Motors LLC            GMC              ENVOY   \n",
      "1347224                 Ford Motor Company           FORD               EDGE   \n",
      "1347225            Mercedes-Benz USA, LLC.  MERCEDES BENZ              ML350   \n",
      "1347226         Nissan North America, Inc.         NISSAN             ALTIMA   \n",
      "1347227              Chrysler (FCA US LLC)           JEEP     GRAND CHEROKEE   \n",
      "1347230              Chrysler (FCA US LLC)           JEEP     GRAND CHEROKEE   \n",
      "1347231         Nissan North America, Inc.         NISSAN              ROGUE   \n",
      "1347234                 General Motors LLC      CHEVROLET           CORVETTE   \n",
      "1347235                 General Motors LLC      CHEVROLET             COBALT   \n",
      "1347236                 General Motors LLC      CHEVROLET             MALIBU   \n",
      "1347237                 General Motors LLC      CHEVROLET           CORVETTE   \n",
      "1347238              Hyundai Motor America        HYUNDAI             SONATA   \n",
      "1347240  Volkswagen Group of America, Inc.           AUDI                 A3   \n",
      "1347242                 Ford Motor Company        MERCURY     MARINER HYBRID   \n",
      "1347243  Volkswagen Group of America, Inc.           AUDI       A4 CABRIOLET   \n",
      "1347244              Chrysler (FCA US LLC)           JEEP     GRAND CHEROKEE   \n",
      "1347245              Hyundai Motor America        HYUNDAI             SONATA   \n",
      "1347247         Nissan North America, Inc.         NISSAN           FRONTIER   \n",
      "1347248  Volkswagen Group of America, Inc.           AUDI                 Q5   \n",
      "\n",
      "        antilock fire  injured  death  compound  \n",
      "0            NaN    N      0.0    0.0    0.0000  \n",
      "1            NaN    N      0.0    0.0    0.0000  \n",
      "2            NaN    N      0.0    0.0   -0.4019  \n",
      "4            NaN    N      1.0    0.0   -0.7650  \n",
      "5            NaN    N      0.0    0.0   -0.4215  \n",
      "7            NaN  NaN      0.0    0.0    0.0000  \n",
      "8            NaN    N      0.0    0.0   -0.4767  \n",
      "9            NaN    N      0.0    0.0    0.0000  \n",
      "10           NaN    N      0.0    0.0    0.0000  \n",
      "11           NaN    N      0.0    0.0   -0.5423  \n",
      "12           NaN    N      0.0    0.0   -0.5423  \n",
      "13           NaN    N      0.0    0.0   -0.3182  \n",
      "14           NaN    N      0.0    0.0    0.0000  \n",
      "15           NaN    N      0.0    0.0   -0.5106  \n",
      "16           NaN    N      0.0    0.0   -0.6249  \n",
      "17           NaN    N      0.0    0.0    0.0000  \n",
      "18           NaN    N      0.0    0.0   -0.4939  \n",
      "19           NaN    N      0.0    0.0   -0.0516  \n",
      "20           NaN    N      0.0    0.0   -0.4215  \n",
      "21           NaN    N      0.0    0.0   -0.2500  \n",
      "22           NaN    N      0.0    0.0   -0.4767  \n",
      "23           NaN    N      0.0    0.0   -0.7964  \n",
      "24           NaN    N      0.0    0.0    0.0000  \n",
      "25           NaN    N      0.0    0.0   -0.8481  \n",
      "26           NaN    N      0.0    0.0   -0.5423  \n",
      "27           NaN    N      1.0    0.0    0.1027  \n",
      "28           NaN    N      0.0    0.0    0.0000  \n",
      "29           NaN    N      0.0    0.0    0.0000  \n",
      "30           NaN    N      0.0    0.0    0.0000  \n",
      "31           NaN    N      0.0    0.0    0.0000  \n",
      "...          ...  ...      ...    ...       ...  \n",
      "1347209        N    N      NaN    NaN       NaN  \n",
      "1347210        N    Y      NaN    NaN       NaN  \n",
      "1347211        N    N      NaN    NaN       NaN  \n",
      "1347212        N    N      NaN    NaN       NaN  \n",
      "1347213        N    N      NaN    NaN       NaN  \n",
      "1347214        N    N      NaN    NaN       NaN  \n",
      "1347215        N    N      NaN    NaN       NaN  \n",
      "1347218        N    N      NaN    NaN       NaN  \n",
      "1347219        N    N      NaN    NaN       NaN  \n",
      "1347220        N    N      NaN    NaN       NaN  \n",
      "1347221        N    N      NaN    NaN       NaN  \n",
      "1347223        N    N      NaN    NaN       NaN  \n",
      "1347224        N    N      NaN    NaN       NaN  \n",
      "1347225        N    N      NaN    NaN       NaN  \n",
      "1347226        N    N      NaN    NaN       NaN  \n",
      "1347227        N    N      NaN    NaN       NaN  \n",
      "1347230        N    N      NaN    NaN       NaN  \n",
      "1347231        N    N      NaN    NaN       NaN  \n",
      "1347234        N    N      NaN    NaN       NaN  \n",
      "1347235        N    N      NaN    NaN       NaN  \n",
      "1347236        N    N      NaN    NaN       NaN  \n",
      "1347237        N    N      NaN    NaN       NaN  \n",
      "1347238        N    N      NaN    NaN       NaN  \n",
      "1347240        N    N      NaN    NaN       NaN  \n",
      "1347242        N    N      NaN    NaN       NaN  \n",
      "1347243        N    N      NaN    NaN       NaN  \n",
      "1347244        N    N      NaN    NaN       NaN  \n",
      "1347245        N    N      NaN    NaN       NaN  \n",
      "1347247        N    N      NaN    NaN       NaN  \n",
      "1347248        N    N      NaN    NaN       NaN  \n",
      "\n",
      "[1055861 rows x 9 columns]\n"
     ]
    }
   ],
   "source": [
    "print(frankenFrame)"
   ]
  },
  {
   "cell_type": "code",
   "execution_count": 190,
   "metadata": {
    "collapsed": false
   },
   "outputs": [
    {
     "ename": "KeyError",
     "evalue": "'fire'",
     "output_type": "error",
     "traceback": [
      "\u001b[0;31m---------------------------------------------------------------------------\u001b[0m",
      "\u001b[0;31mKeyError\u001b[0m                                  Traceback (most recent call last)",
      "\u001b[0;32mC:\\Users\\owen\\Anaconda3\\lib\\site-packages\\pandas\\indexes\\base.py\u001b[0m in \u001b[0;36mget_loc\u001b[0;34m(self, key, method, tolerance)\u001b[0m\n\u001b[1;32m   1944\u001b[0m             \u001b[1;32mtry\u001b[0m\u001b[1;33m:\u001b[0m\u001b[1;33m\u001b[0m\u001b[0m\n\u001b[0;32m-> 1945\u001b[0;31m                 \u001b[1;32mreturn\u001b[0m \u001b[0mself\u001b[0m\u001b[1;33m.\u001b[0m\u001b[0m_engine\u001b[0m\u001b[1;33m.\u001b[0m\u001b[0mget_loc\u001b[0m\u001b[1;33m(\u001b[0m\u001b[0mkey\u001b[0m\u001b[1;33m)\u001b[0m\u001b[1;33m\u001b[0m\u001b[0m\n\u001b[0m\u001b[1;32m   1946\u001b[0m             \u001b[1;32mexcept\u001b[0m \u001b[0mKeyError\u001b[0m\u001b[1;33m:\u001b[0m\u001b[1;33m\u001b[0m\u001b[0m\n",
      "\u001b[0;32mpandas\\index.pyx\u001b[0m in \u001b[0;36mpandas.index.IndexEngine.get_loc (pandas\\index.c:4154)\u001b[0;34m()\u001b[0m\n",
      "\u001b[0;32mpandas\\index.pyx\u001b[0m in \u001b[0;36mpandas.index.IndexEngine.get_loc (pandas\\index.c:4018)\u001b[0;34m()\u001b[0m\n",
      "\u001b[0;32mpandas\\hashtable.pyx\u001b[0m in \u001b[0;36mpandas.hashtable.PyObjectHashTable.get_item (pandas\\hashtable.c:12368)\u001b[0;34m()\u001b[0m\n",
      "\u001b[0;32mpandas\\hashtable.pyx\u001b[0m in \u001b[0;36mpandas.hashtable.PyObjectHashTable.get_item (pandas\\hashtable.c:12322)\u001b[0;34m()\u001b[0m\n",
      "\u001b[0;31mKeyError\u001b[0m: 'fire'",
      "\nDuring handling of the above exception, another exception occurred:\n",
      "\u001b[0;31mKeyError\u001b[0m                                  Traceback (most recent call last)",
      "\u001b[0;32m<ipython-input-190-e261fb7245cf>\u001b[0m in \u001b[0;36m<module>\u001b[0;34m()\u001b[0m\n\u001b[0;32m----> 1\u001b[0;31m \u001b[0mcheckManu\u001b[0m \u001b[1;33m=\u001b[0m \u001b[0mcheckManu\u001b[0m\u001b[1;33m.\u001b[0m\u001b[0msort_values\u001b[0m\u001b[1;33m(\u001b[0m\u001b[0mby\u001b[0m \u001b[1;33m=\u001b[0m \u001b[1;34m'fire'\u001b[0m\u001b[1;33m,\u001b[0m \u001b[0mascending\u001b[0m\u001b[1;33m=\u001b[0m\u001b[1;33m[\u001b[0m\u001b[1;32mTrue\u001b[0m\u001b[1;33m]\u001b[0m\u001b[1;33m)\u001b[0m\u001b[1;33m\u001b[0m\u001b[0m\n\u001b[0m",
      "\u001b[0;32mC:\\Users\\owen\\Anaconda3\\lib\\site-packages\\pandas\\core\\frame.py\u001b[0m in \u001b[0;36msort_values\u001b[0;34m(self, by, axis, ascending, inplace, kind, na_position)\u001b[0m\n\u001b[1;32m   3149\u001b[0m \u001b[1;33m\u001b[0m\u001b[0m\n\u001b[1;32m   3150\u001b[0m             \u001b[0mby\u001b[0m \u001b[1;33m=\u001b[0m \u001b[0mby\u001b[0m\u001b[1;33m[\u001b[0m\u001b[1;36m0\u001b[0m\u001b[1;33m]\u001b[0m\u001b[1;33m\u001b[0m\u001b[0m\n\u001b[0;32m-> 3151\u001b[0;31m             \u001b[0mk\u001b[0m \u001b[1;33m=\u001b[0m \u001b[0mself\u001b[0m\u001b[1;33m[\u001b[0m\u001b[0mby\u001b[0m\u001b[1;33m]\u001b[0m\u001b[1;33m.\u001b[0m\u001b[0mvalues\u001b[0m\u001b[1;33m\u001b[0m\u001b[0m\n\u001b[0m\u001b[1;32m   3152\u001b[0m             \u001b[1;32mif\u001b[0m \u001b[0mk\u001b[0m\u001b[1;33m.\u001b[0m\u001b[0mndim\u001b[0m \u001b[1;33m==\u001b[0m \u001b[1;36m2\u001b[0m\u001b[1;33m:\u001b[0m\u001b[1;33m\u001b[0m\u001b[0m\n\u001b[1;32m   3153\u001b[0m \u001b[1;33m\u001b[0m\u001b[0m\n",
      "\u001b[0;32mC:\\Users\\owen\\Anaconda3\\lib\\site-packages\\pandas\\core\\frame.py\u001b[0m in \u001b[0;36m__getitem__\u001b[0;34m(self, key)\u001b[0m\n\u001b[1;32m   1995\u001b[0m             \u001b[1;32mreturn\u001b[0m \u001b[0mself\u001b[0m\u001b[1;33m.\u001b[0m\u001b[0m_getitem_multilevel\u001b[0m\u001b[1;33m(\u001b[0m\u001b[0mkey\u001b[0m\u001b[1;33m)\u001b[0m\u001b[1;33m\u001b[0m\u001b[0m\n\u001b[1;32m   1996\u001b[0m         \u001b[1;32melse\u001b[0m\u001b[1;33m:\u001b[0m\u001b[1;33m\u001b[0m\u001b[0m\n\u001b[0;32m-> 1997\u001b[0;31m             \u001b[1;32mreturn\u001b[0m \u001b[0mself\u001b[0m\u001b[1;33m.\u001b[0m\u001b[0m_getitem_column\u001b[0m\u001b[1;33m(\u001b[0m\u001b[0mkey\u001b[0m\u001b[1;33m)\u001b[0m\u001b[1;33m\u001b[0m\u001b[0m\n\u001b[0m\u001b[1;32m   1998\u001b[0m \u001b[1;33m\u001b[0m\u001b[0m\n\u001b[1;32m   1999\u001b[0m     \u001b[1;32mdef\u001b[0m \u001b[0m_getitem_column\u001b[0m\u001b[1;33m(\u001b[0m\u001b[0mself\u001b[0m\u001b[1;33m,\u001b[0m \u001b[0mkey\u001b[0m\u001b[1;33m)\u001b[0m\u001b[1;33m:\u001b[0m\u001b[1;33m\u001b[0m\u001b[0m\n",
      "\u001b[0;32mC:\\Users\\owen\\Anaconda3\\lib\\site-packages\\pandas\\core\\frame.py\u001b[0m in \u001b[0;36m_getitem_column\u001b[0;34m(self, key)\u001b[0m\n\u001b[1;32m   2002\u001b[0m         \u001b[1;31m# get column\u001b[0m\u001b[1;33m\u001b[0m\u001b[1;33m\u001b[0m\u001b[0m\n\u001b[1;32m   2003\u001b[0m         \u001b[1;32mif\u001b[0m \u001b[0mself\u001b[0m\u001b[1;33m.\u001b[0m\u001b[0mcolumns\u001b[0m\u001b[1;33m.\u001b[0m\u001b[0mis_unique\u001b[0m\u001b[1;33m:\u001b[0m\u001b[1;33m\u001b[0m\u001b[0m\n\u001b[0;32m-> 2004\u001b[0;31m             \u001b[1;32mreturn\u001b[0m \u001b[0mself\u001b[0m\u001b[1;33m.\u001b[0m\u001b[0m_get_item_cache\u001b[0m\u001b[1;33m(\u001b[0m\u001b[0mkey\u001b[0m\u001b[1;33m)\u001b[0m\u001b[1;33m\u001b[0m\u001b[0m\n\u001b[0m\u001b[1;32m   2005\u001b[0m \u001b[1;33m\u001b[0m\u001b[0m\n\u001b[1;32m   2006\u001b[0m         \u001b[1;31m# duplicate columns & possible reduce dimensionality\u001b[0m\u001b[1;33m\u001b[0m\u001b[1;33m\u001b[0m\u001b[0m\n",
      "\u001b[0;32mC:\\Users\\owen\\Anaconda3\\lib\\site-packages\\pandas\\core\\generic.py\u001b[0m in \u001b[0;36m_get_item_cache\u001b[0;34m(self, item)\u001b[0m\n\u001b[1;32m   1348\u001b[0m         \u001b[0mres\u001b[0m \u001b[1;33m=\u001b[0m \u001b[0mcache\u001b[0m\u001b[1;33m.\u001b[0m\u001b[0mget\u001b[0m\u001b[1;33m(\u001b[0m\u001b[0mitem\u001b[0m\u001b[1;33m)\u001b[0m\u001b[1;33m\u001b[0m\u001b[0m\n\u001b[1;32m   1349\u001b[0m         \u001b[1;32mif\u001b[0m \u001b[0mres\u001b[0m \u001b[1;32mis\u001b[0m \u001b[1;32mNone\u001b[0m\u001b[1;33m:\u001b[0m\u001b[1;33m\u001b[0m\u001b[0m\n\u001b[0;32m-> 1350\u001b[0;31m             \u001b[0mvalues\u001b[0m \u001b[1;33m=\u001b[0m \u001b[0mself\u001b[0m\u001b[1;33m.\u001b[0m\u001b[0m_data\u001b[0m\u001b[1;33m.\u001b[0m\u001b[0mget\u001b[0m\u001b[1;33m(\u001b[0m\u001b[0mitem\u001b[0m\u001b[1;33m)\u001b[0m\u001b[1;33m\u001b[0m\u001b[0m\n\u001b[0m\u001b[1;32m   1351\u001b[0m             \u001b[0mres\u001b[0m \u001b[1;33m=\u001b[0m \u001b[0mself\u001b[0m\u001b[1;33m.\u001b[0m\u001b[0m_box_item_values\u001b[0m\u001b[1;33m(\u001b[0m\u001b[0mitem\u001b[0m\u001b[1;33m,\u001b[0m \u001b[0mvalues\u001b[0m\u001b[1;33m)\u001b[0m\u001b[1;33m\u001b[0m\u001b[0m\n\u001b[1;32m   1352\u001b[0m             \u001b[0mcache\u001b[0m\u001b[1;33m[\u001b[0m\u001b[0mitem\u001b[0m\u001b[1;33m]\u001b[0m \u001b[1;33m=\u001b[0m \u001b[0mres\u001b[0m\u001b[1;33m\u001b[0m\u001b[0m\n",
      "\u001b[0;32mC:\\Users\\owen\\Anaconda3\\lib\\site-packages\\pandas\\core\\internals.py\u001b[0m in \u001b[0;36mget\u001b[0;34m(self, item, fastpath)\u001b[0m\n\u001b[1;32m   3288\u001b[0m \u001b[1;33m\u001b[0m\u001b[0m\n\u001b[1;32m   3289\u001b[0m             \u001b[1;32mif\u001b[0m \u001b[1;32mnot\u001b[0m \u001b[0misnull\u001b[0m\u001b[1;33m(\u001b[0m\u001b[0mitem\u001b[0m\u001b[1;33m)\u001b[0m\u001b[1;33m:\u001b[0m\u001b[1;33m\u001b[0m\u001b[0m\n\u001b[0;32m-> 3290\u001b[0;31m                 \u001b[0mloc\u001b[0m \u001b[1;33m=\u001b[0m \u001b[0mself\u001b[0m\u001b[1;33m.\u001b[0m\u001b[0mitems\u001b[0m\u001b[1;33m.\u001b[0m\u001b[0mget_loc\u001b[0m\u001b[1;33m(\u001b[0m\u001b[0mitem\u001b[0m\u001b[1;33m)\u001b[0m\u001b[1;33m\u001b[0m\u001b[0m\n\u001b[0m\u001b[1;32m   3291\u001b[0m             \u001b[1;32melse\u001b[0m\u001b[1;33m:\u001b[0m\u001b[1;33m\u001b[0m\u001b[0m\n\u001b[1;32m   3292\u001b[0m                 \u001b[0mindexer\u001b[0m \u001b[1;33m=\u001b[0m \u001b[0mnp\u001b[0m\u001b[1;33m.\u001b[0m\u001b[0marange\u001b[0m\u001b[1;33m(\u001b[0m\u001b[0mlen\u001b[0m\u001b[1;33m(\u001b[0m\u001b[0mself\u001b[0m\u001b[1;33m.\u001b[0m\u001b[0mitems\u001b[0m\u001b[1;33m)\u001b[0m\u001b[1;33m)\u001b[0m\u001b[1;33m[\u001b[0m\u001b[0misnull\u001b[0m\u001b[1;33m(\u001b[0m\u001b[0mself\u001b[0m\u001b[1;33m.\u001b[0m\u001b[0mitems\u001b[0m\u001b[1;33m)\u001b[0m\u001b[1;33m]\u001b[0m\u001b[1;33m\u001b[0m\u001b[0m\n",
      "\u001b[0;32mC:\\Users\\owen\\Anaconda3\\lib\\site-packages\\pandas\\indexes\\base.py\u001b[0m in \u001b[0;36mget_loc\u001b[0;34m(self, key, method, tolerance)\u001b[0m\n\u001b[1;32m   1945\u001b[0m                 \u001b[1;32mreturn\u001b[0m \u001b[0mself\u001b[0m\u001b[1;33m.\u001b[0m\u001b[0m_engine\u001b[0m\u001b[1;33m.\u001b[0m\u001b[0mget_loc\u001b[0m\u001b[1;33m(\u001b[0m\u001b[0mkey\u001b[0m\u001b[1;33m)\u001b[0m\u001b[1;33m\u001b[0m\u001b[0m\n\u001b[1;32m   1946\u001b[0m             \u001b[1;32mexcept\u001b[0m \u001b[0mKeyError\u001b[0m\u001b[1;33m:\u001b[0m\u001b[1;33m\u001b[0m\u001b[0m\n\u001b[0;32m-> 1947\u001b[0;31m                 \u001b[1;32mreturn\u001b[0m \u001b[0mself\u001b[0m\u001b[1;33m.\u001b[0m\u001b[0m_engine\u001b[0m\u001b[1;33m.\u001b[0m\u001b[0mget_loc\u001b[0m\u001b[1;33m(\u001b[0m\u001b[0mself\u001b[0m\u001b[1;33m.\u001b[0m\u001b[0m_maybe_cast_indexer\u001b[0m\u001b[1;33m(\u001b[0m\u001b[0mkey\u001b[0m\u001b[1;33m)\u001b[0m\u001b[1;33m)\u001b[0m\u001b[1;33m\u001b[0m\u001b[0m\n\u001b[0m\u001b[1;32m   1948\u001b[0m \u001b[1;33m\u001b[0m\u001b[0m\n\u001b[1;32m   1949\u001b[0m         \u001b[0mindexer\u001b[0m \u001b[1;33m=\u001b[0m \u001b[0mself\u001b[0m\u001b[1;33m.\u001b[0m\u001b[0mget_indexer\u001b[0m\u001b[1;33m(\u001b[0m\u001b[1;33m[\u001b[0m\u001b[0mkey\u001b[0m\u001b[1;33m]\u001b[0m\u001b[1;33m,\u001b[0m \u001b[0mmethod\u001b[0m\u001b[1;33m=\u001b[0m\u001b[0mmethod\u001b[0m\u001b[1;33m,\u001b[0m \u001b[0mtolerance\u001b[0m\u001b[1;33m=\u001b[0m\u001b[0mtolerance\u001b[0m\u001b[1;33m)\u001b[0m\u001b[1;33m\u001b[0m\u001b[0m\n",
      "\u001b[0;32mpandas\\index.pyx\u001b[0m in \u001b[0;36mpandas.index.IndexEngine.get_loc (pandas\\index.c:4154)\u001b[0;34m()\u001b[0m\n",
      "\u001b[0;32mpandas\\index.pyx\u001b[0m in \u001b[0;36mpandas.index.IndexEngine.get_loc (pandas\\index.c:4018)\u001b[0;34m()\u001b[0m\n",
      "\u001b[0;32mpandas\\hashtable.pyx\u001b[0m in \u001b[0;36mpandas.hashtable.PyObjectHashTable.get_item (pandas\\hashtable.c:12368)\u001b[0;34m()\u001b[0m\n",
      "\u001b[0;32mpandas\\hashtable.pyx\u001b[0m in \u001b[0;36mpandas.hashtable.PyObjectHashTable.get_item (pandas\\hashtable.c:12322)\u001b[0;34m()\u001b[0m\n",
      "\u001b[0;31mKeyError\u001b[0m: 'fire'"
     ]
    }
   ],
   "source": [
    "checkManu = checkManu.sort_values(by = 'compound', ascending=[True])"
   ]
  },
  {
   "cell_type": "code",
   "execution_count": 182,
   "metadata": {
    "collapsed": false
   },
   "outputs": [
    {
     "data": {
      "text/html": [
       "<div>\n",
       "<table border=\"1\" class=\"dataframe\">\n",
       "  <thead>\n",
       "    <tr style=\"text-align: right;\">\n",
       "      <th></th>\n",
       "      <th>manufacturer</th>\n",
       "      <th>compound</th>\n",
       "    </tr>\n",
       "  </thead>\n",
       "  <tbody>\n",
       "    <tr>\n",
       "      <th>7</th>\n",
       "      <td>LAND ROVER</td>\n",
       "      <td>-0.690500</td>\n",
       "    </tr>\n",
       "    <tr>\n",
       "      <th>9</th>\n",
       "      <td>Toyota Motor Corporation</td>\n",
       "      <td>-0.660300</td>\n",
       "    </tr>\n",
       "    <tr>\n",
       "      <th>11</th>\n",
       "      <td>NEWMAR CORPORATION</td>\n",
       "      <td>-0.639167</td>\n",
       "    </tr>\n",
       "    <tr>\n",
       "      <th>19</th>\n",
       "      <td>BELL MFG. CORPORATION</td>\n",
       "      <td>-0.510600</td>\n",
       "    </tr>\n",
       "    <tr>\n",
       "      <th>27</th>\n",
       "      <td>PIRELLI TIRE LLC</td>\n",
       "      <td>-0.510600</td>\n",
       "    </tr>\n",
       "    <tr>\n",
       "      <th>30</th>\n",
       "      <td>GROUP LOTUS PLC</td>\n",
       "      <td>-0.496800</td>\n",
       "    </tr>\n",
       "    <tr>\n",
       "      <th>31</th>\n",
       "      <td>SEARS ROEBUCK &amp; CO.</td>\n",
       "      <td>-0.489080</td>\n",
       "    </tr>\n",
       "    <tr>\n",
       "      <th>33</th>\n",
       "      <td>FEDERA-MOGUL CORPORATION</td>\n",
       "      <td>-0.476700</td>\n",
       "    </tr>\n",
       "    <tr>\n",
       "      <th>34</th>\n",
       "      <td>FIRESTONE TIRE &amp; RUBBER CO.</td>\n",
       "      <td>-0.471200</td>\n",
       "    </tr>\n",
       "    <tr>\n",
       "      <th>35</th>\n",
       "      <td>CARRIAGE, INC</td>\n",
       "      <td>-0.462050</td>\n",
       "    </tr>\n",
       "    <tr>\n",
       "      <th>36</th>\n",
       "      <td>VOLVO TRUCKS NORTH AMERICA, INC.</td>\n",
       "      <td>-0.456933</td>\n",
       "    </tr>\n",
       "    <tr>\n",
       "      <th>37</th>\n",
       "      <td>BOUNDER MOTORHOMES</td>\n",
       "      <td>-0.456250</td>\n",
       "    </tr>\n",
       "    <tr>\n",
       "      <th>38</th>\n",
       "      <td>COOPER TIRE &amp; RUBBER CO.</td>\n",
       "      <td>-0.442400</td>\n",
       "    </tr>\n",
       "    <tr>\n",
       "      <th>40</th>\n",
       "      <td>Suzuki Motor of America, Inc.</td>\n",
       "      <td>-0.440400</td>\n",
       "    </tr>\n",
       "    <tr>\n",
       "      <th>42</th>\n",
       "      <td>B.F. GOODRICH TIRE CO.</td>\n",
       "      <td>-0.423920</td>\n",
       "    </tr>\n",
       "    <tr>\n",
       "      <th>43</th>\n",
       "      <td>BRITAX CHILD SAFETY, INC.</td>\n",
       "      <td>-0.422050</td>\n",
       "    </tr>\n",
       "    <tr>\n",
       "      <th>51</th>\n",
       "      <td>GENERAL ENGINES COMPANY, INC.</td>\n",
       "      <td>-0.416900</td>\n",
       "    </tr>\n",
       "    <tr>\n",
       "      <th>56</th>\n",
       "      <td>LAND ROVER</td>\n",
       "      <td>-0.400284</td>\n",
       "    </tr>\n",
       "    <tr>\n",
       "      <th>57</th>\n",
       "      <td>TRIUMPH MOTORCYCLES (AMERICA) LTD</td>\n",
       "      <td>-0.397000</td>\n",
       "    </tr>\n",
       "    <tr>\n",
       "      <th>58</th>\n",
       "      <td>IC CORPORATION</td>\n",
       "      <td>-0.387440</td>\n",
       "    </tr>\n",
       "    <tr>\n",
       "      <th>62</th>\n",
       "      <td>BLUE BIRD BODY COMPANY</td>\n",
       "      <td>-0.377423</td>\n",
       "    </tr>\n",
       "    <tr>\n",
       "      <th>63</th>\n",
       "      <td>AM GENERAL LLC</td>\n",
       "      <td>-0.376592</td>\n",
       "    </tr>\n",
       "    <tr>\n",
       "      <th>64</th>\n",
       "      <td>MACK TRUCKS, INC</td>\n",
       "      <td>-0.370782</td>\n",
       "    </tr>\n",
       "    <tr>\n",
       "      <th>65</th>\n",
       "      <td>MANSFIELD TIRE &amp; RUBBER C</td>\n",
       "      <td>-0.368875</td>\n",
       "    </tr>\n",
       "    <tr>\n",
       "      <th>67</th>\n",
       "      <td>PEUGEOT, INC.</td>\n",
       "      <td>-0.360510</td>\n",
       "    </tr>\n",
       "    <tr>\n",
       "      <th>68</th>\n",
       "      <td>Chrysler Group LLC</td>\n",
       "      <td>-0.359164</td>\n",
       "    </tr>\n",
       "    <tr>\n",
       "      <th>70</th>\n",
       "      <td>CARPENTER INDUSTRIES, INC.</td>\n",
       "      <td>-0.352669</td>\n",
       "    </tr>\n",
       "    <tr>\n",
       "      <th>71</th>\n",
       "      <td>REXHALL INDUSTRIES INC</td>\n",
       "      <td>-0.349667</td>\n",
       "    </tr>\n",
       "    <tr>\n",
       "      <th>72</th>\n",
       "      <td>BUELL MOTORCYCLE CO.</td>\n",
       "      <td>-0.347333</td>\n",
       "    </tr>\n",
       "    <tr>\n",
       "      <th>73</th>\n",
       "      <td>UNIROYAL TIRE CO.</td>\n",
       "      <td>-0.345691</td>\n",
       "    </tr>\n",
       "    <tr>\n",
       "      <th>...</th>\n",
       "      <td>...</td>\n",
       "      <td>...</td>\n",
       "    </tr>\n",
       "    <tr>\n",
       "      <th>167</th>\n",
       "      <td>MONACO COACH CORPORATION</td>\n",
       "      <td>-0.242391</td>\n",
       "    </tr>\n",
       "    <tr>\n",
       "      <th>168</th>\n",
       "      <td>COLEMAN CO., INC.</td>\n",
       "      <td>-0.239825</td>\n",
       "    </tr>\n",
       "    <tr>\n",
       "      <th>169</th>\n",
       "      <td>MICHELIN TIRE CORP.</td>\n",
       "      <td>-0.239221</td>\n",
       "    </tr>\n",
       "    <tr>\n",
       "      <th>170</th>\n",
       "      <td>HOLIDAY RAMBLER CORP.</td>\n",
       "      <td>-0.238761</td>\n",
       "    </tr>\n",
       "    <tr>\n",
       "      <th>175</th>\n",
       "      <td>ALFA LEISURE,INC.</td>\n",
       "      <td>-0.220656</td>\n",
       "    </tr>\n",
       "    <tr>\n",
       "      <th>176</th>\n",
       "      <td>COBRA INDUSTRIES, INC.</td>\n",
       "      <td>-0.214308</td>\n",
       "    </tr>\n",
       "    <tr>\n",
       "      <th>177</th>\n",
       "      <td>AIRSTREAM, INC.</td>\n",
       "      <td>-0.211264</td>\n",
       "    </tr>\n",
       "    <tr>\n",
       "      <th>179</th>\n",
       "      <td>DAMON MOTOR COACH</td>\n",
       "      <td>-0.209820</td>\n",
       "    </tr>\n",
       "    <tr>\n",
       "      <th>180</th>\n",
       "      <td>UNKNOWN MANUFACTURER</td>\n",
       "      <td>-0.208683</td>\n",
       "    </tr>\n",
       "    <tr>\n",
       "      <th>181</th>\n",
       "      <td>BRIDGESTONE/FIRESTONE NORTH AMERICA TIRE</td>\n",
       "      <td>-0.208313</td>\n",
       "    </tr>\n",
       "    <tr>\n",
       "      <th>182</th>\n",
       "      <td>MALLARD COACH CORP.</td>\n",
       "      <td>-0.204593</td>\n",
       "    </tr>\n",
       "    <tr>\n",
       "      <th>183</th>\n",
       "      <td>Mazda North American Operations</td>\n",
       "      <td>-0.202300</td>\n",
       "    </tr>\n",
       "    <tr>\n",
       "      <th>184</th>\n",
       "      <td>MASERATI NORTH AMERICA, INC.</td>\n",
       "      <td>-0.199171</td>\n",
       "    </tr>\n",
       "    <tr>\n",
       "      <th>185</th>\n",
       "      <td>Chrysler (FCA US LLC)</td>\n",
       "      <td>-0.191468</td>\n",
       "    </tr>\n",
       "    <tr>\n",
       "      <th>186</th>\n",
       "      <td>Harley-Davidson Motor Company</td>\n",
       "      <td>-0.190712</td>\n",
       "    </tr>\n",
       "    <tr>\n",
       "      <th>189</th>\n",
       "      <td>FBS, INC.</td>\n",
       "      <td>-0.176968</td>\n",
       "    </tr>\n",
       "    <tr>\n",
       "      <th>190</th>\n",
       "      <td>DUNLOP TIRE CORPORATION</td>\n",
       "      <td>-0.174813</td>\n",
       "    </tr>\n",
       "    <tr>\n",
       "      <th>192</th>\n",
       "      <td>UTILITY TRAILER MANUFACTURING COMPANY</td>\n",
       "      <td>-0.159100</td>\n",
       "    </tr>\n",
       "    <tr>\n",
       "      <th>195</th>\n",
       "      <td>GANS</td>\n",
       "      <td>-0.149713</td>\n",
       "    </tr>\n",
       "    <tr>\n",
       "      <th>196</th>\n",
       "      <td>ITASCA MOTORHOME</td>\n",
       "      <td>-0.141758</td>\n",
       "    </tr>\n",
       "    <tr>\n",
       "      <th>201</th>\n",
       "      <td>FOUR WINDS CMPR. MFG. CO.</td>\n",
       "      <td>-0.105290</td>\n",
       "    </tr>\n",
       "    <tr>\n",
       "      <th>202</th>\n",
       "      <td>STARCRAFT COMPANY</td>\n",
       "      <td>-0.096200</td>\n",
       "    </tr>\n",
       "    <tr>\n",
       "      <th>203</th>\n",
       "      <td>FERRARI NORTH AMERICA INC</td>\n",
       "      <td>-0.090300</td>\n",
       "    </tr>\n",
       "    <tr>\n",
       "      <th>204</th>\n",
       "      <td>KELLY SPRINGFIELD TIRE CO</td>\n",
       "      <td>-0.087878</td>\n",
       "    </tr>\n",
       "    <tr>\n",
       "      <th>205</th>\n",
       "      <td>YOKOHAMA</td>\n",
       "      <td>-0.079937</td>\n",
       "    </tr>\n",
       "    <tr>\n",
       "      <th>209</th>\n",
       "      <td>GREAT DANE LIMITED PARTNERSHIP</td>\n",
       "      <td>-0.025800</td>\n",
       "    </tr>\n",
       "    <tr>\n",
       "      <th>218</th>\n",
       "      <td>Mitsubishi Motors North America, Inc.</td>\n",
       "      <td>0.000000</td>\n",
       "    </tr>\n",
       "    <tr>\n",
       "      <th>220</th>\n",
       "      <td>CAGIVA NORTH AMERICA</td>\n",
       "      <td>0.000000</td>\n",
       "    </tr>\n",
       "    <tr>\n",
       "      <th>229</th>\n",
       "      <td>DELCO ELECT. DIV., GM</td>\n",
       "      <td>0.159100</td>\n",
       "    </tr>\n",
       "    <tr>\n",
       "      <th>230</th>\n",
       "      <td>NATIONAL R.V. INC.</td>\n",
       "      <td>0.261000</td>\n",
       "    </tr>\n",
       "  </tbody>\n",
       "</table>\n",
       "<p>138 rows × 2 columns</p>\n",
       "</div>"
      ],
      "text/plain": [
       "                                 manufacturer  compound\n",
       "7                                  LAND ROVER -0.690500\n",
       "9                    Toyota Motor Corporation -0.660300\n",
       "11                         NEWMAR CORPORATION -0.639167\n",
       "19                      BELL MFG. CORPORATION -0.510600\n",
       "27                           PIRELLI TIRE LLC -0.510600\n",
       "30                            GROUP LOTUS PLC -0.496800\n",
       "31                        SEARS ROEBUCK & CO. -0.489080\n",
       "33                   FEDERA-MOGUL CORPORATION -0.476700\n",
       "34                FIRESTONE TIRE & RUBBER CO. -0.471200\n",
       "35                              CARRIAGE, INC -0.462050\n",
       "36           VOLVO TRUCKS NORTH AMERICA, INC. -0.456933\n",
       "37                         BOUNDER MOTORHOMES -0.456250\n",
       "38                   COOPER TIRE & RUBBER CO. -0.442400\n",
       "40              Suzuki Motor of America, Inc. -0.440400\n",
       "42                     B.F. GOODRICH TIRE CO. -0.423920\n",
       "43                  BRITAX CHILD SAFETY, INC. -0.422050\n",
       "51              GENERAL ENGINES COMPANY, INC. -0.416900\n",
       "56                                LAND ROVER  -0.400284\n",
       "57          TRIUMPH MOTORCYCLES (AMERICA) LTD -0.397000\n",
       "58                             IC CORPORATION -0.387440\n",
       "62                     BLUE BIRD BODY COMPANY -0.377423\n",
       "63                             AM GENERAL LLC -0.376592\n",
       "64                           MACK TRUCKS, INC -0.370782\n",
       "65                  MANSFIELD TIRE & RUBBER C -0.368875\n",
       "67                              PEUGEOT, INC. -0.360510\n",
       "68                         Chrysler Group LLC -0.359164\n",
       "70                 CARPENTER INDUSTRIES, INC. -0.352669\n",
       "71                     REXHALL INDUSTRIES INC -0.349667\n",
       "72                       BUELL MOTORCYCLE CO. -0.347333\n",
       "73                          UNIROYAL TIRE CO. -0.345691\n",
       "..                                        ...       ...\n",
       "167                  MONACO COACH CORPORATION -0.242391\n",
       "168                         COLEMAN CO., INC. -0.239825\n",
       "169                       MICHELIN TIRE CORP. -0.239221\n",
       "170                     HOLIDAY RAMBLER CORP. -0.238761\n",
       "175                         ALFA LEISURE,INC. -0.220656\n",
       "176                    COBRA INDUSTRIES, INC. -0.214308\n",
       "177                           AIRSTREAM, INC. -0.211264\n",
       "179                         DAMON MOTOR COACH -0.209820\n",
       "180                      UNKNOWN MANUFACTURER -0.208683\n",
       "181  BRIDGESTONE/FIRESTONE NORTH AMERICA TIRE -0.208313\n",
       "182                       MALLARD COACH CORP. -0.204593\n",
       "183           Mazda North American Operations -0.202300\n",
       "184              MASERATI NORTH AMERICA, INC. -0.199171\n",
       "185                     Chrysler (FCA US LLC) -0.191468\n",
       "186             Harley-Davidson Motor Company -0.190712\n",
       "189                                 FBS, INC. -0.176968\n",
       "190                   DUNLOP TIRE CORPORATION -0.174813\n",
       "192     UTILITY TRAILER MANUFACTURING COMPANY -0.159100\n",
       "195                                      GANS -0.149713\n",
       "196                          ITASCA MOTORHOME -0.141758\n",
       "201                 FOUR WINDS CMPR. MFG. CO. -0.105290\n",
       "202                         STARCRAFT COMPANY -0.096200\n",
       "203                 FERRARI NORTH AMERICA INC -0.090300\n",
       "204                 KELLY SPRINGFIELD TIRE CO -0.087878\n",
       "205                                  YOKOHAMA -0.079937\n",
       "209            GREAT DANE LIMITED PARTNERSHIP -0.025800\n",
       "218     Mitsubishi Motors North America, Inc.  0.000000\n",
       "220                      CAGIVA NORTH AMERICA  0.000000\n",
       "229                     DELCO ELECT. DIV., GM  0.159100\n",
       "230                        NATIONAL R.V. INC.  0.261000\n",
       "\n",
       "[138 rows x 2 columns]"
      ]
     },
     "execution_count": 182,
     "metadata": {},
     "output_type": "execute_result"
    }
   ],
   "source": [
    "checkManu.reset_index(drop=True, inplace=True)\n",
    "checkManu.dropna(how='any')"
   ]
  },
  {
   "cell_type": "code",
   "execution_count": 234,
   "metadata": {
    "collapsed": false
   },
   "outputs": [
    {
     "data": {
      "text/plain": [
       "Index(['string', 'manufacturer', 'make', 'model', 'antilock', 'fire',\n",
       "       'injured', 'death', 'compound'],\n",
       "      dtype='object')"
      ]
     },
     "execution_count": 234,
     "metadata": {},
     "output_type": "execute_result"
    }
   ],
   "source": [
    "frankenFrame.keys()"
   ]
  },
  {
   "cell_type": "code",
   "execution_count": 259,
   "metadata": {
    "collapsed": false
   },
   "outputs": [],
   "source": [
    "checkManu = frankenFrame.groupby('make', as_index = False)['compound'].mean()\n",
    "manuCounts = frankenFrame['make'].value_counts()\n",
    "remove = manuCounts[manuCounts <= 20].index #if there are less than 20 items, drop them. \n",
    "checkManu['make'].replace(remove, np.nan, inplace = True) "
   ]
  },
  {
   "cell_type": "code",
   "execution_count": 260,
   "metadata": {
    "collapsed": true
   },
   "outputs": [],
   "source": [
    "checkManu = checkManu.sort_values(by = 'compound', ascending=[True])"
   ]
  },
  {
   "cell_type": "code",
   "execution_count": 261,
   "metadata": {
    "collapsed": false
   },
   "outputs": [],
   "source": [
    "checkManu = checkManu.dropna(how='any')"
   ]
  },
  {
   "cell_type": "code",
   "execution_count": 262,
   "metadata": {
    "collapsed": false
   },
   "outputs": [
    {
     "name": "stdout",
     "output_type": "stream",
     "text": [
      "                      make  compound\n",
      "1332                SAFARI -0.630600\n",
      "1075            MOTO GUZZI -0.624900\n",
      "1172            PATHFINDER -0.510600\n",
      "214                   BELL -0.510600\n",
      "1286                RIALTA -0.505400\n",
      "964                  LOTUS -0.496800\n",
      "1351                 SEARS -0.489080\n",
      "315               CARRIAGE -0.462050\n",
      "262                BOUNDER -0.456250\n",
      "397                 COOPER -0.442400\n",
      "1365                SHASTA -0.424050\n",
      "191           B.F.GOODRICH -0.423920\n",
      "278                 BRITAX -0.422050\n",
      "1673          WESTERN STAR -0.421500\n",
      "671         GENERAL MOTORS -0.421500\n",
      "670         GENERAL ENGINE -0.416900\n",
      "925             LAND ROVER -0.405658\n",
      "1111                NEWMAR -0.399825\n",
      "1575               TRIUMPH -0.397000\n",
      "99              AM GENERAL -0.376592\n",
      "246              BLUE BIRD -0.375952\n",
      "971                   MACK -0.370782\n",
      "1383               SKYLINE -0.369240\n",
      "313              CARPENTER -0.352822\n",
      "285                  BUELL -0.347333\n",
      "1600              UNIROYAL -0.345691\n",
      "1505                TIFFIN -0.344817\n",
      "835          INTERNATIONAL -0.343869\n",
      "370                COLEMAN -0.342857\n",
      "851                 JAGUAR -0.342480\n",
      "...                    ...       ...\n",
      "584              EZ LOADER -0.230267\n",
      "1062                MONACO -0.225700\n",
      "274            BRIDGESTONE -0.223193\n",
      "1607               UNKNOWN -0.220861\n",
      "72                    ALFA -0.220656\n",
      "367                  COBRA -0.214308\n",
      "68               AIRSTREAM -0.211264\n",
      "443                  DAMON -0.209820\n",
      "976                MALLARD -0.204593\n",
      "986               MASERATI -0.199171\n",
      "751        HARLEY-DAVIDSON -0.190712\n",
      "1193               PIRELLI -0.189811\n",
      "1278               RENOLUX -0.176968\n",
      "509                 DUNLOP -0.174813\n",
      "1282               REXHALL -0.170200\n",
      "1615               UTILITY -0.159100\n",
      "847                 ITASCA -0.156786\n",
      "1188                PIERCE -0.136600\n",
      "635             FOUR WINDS -0.105290\n",
      "882      KELLY SPRINGFIELD -0.098862\n",
      "1414             STARCRAFT -0.096200\n",
      "603                FERRARI -0.090300\n",
      "1724              YOKOHAMA -0.079937\n",
      "1608  UNKNOWN MANUFACTURER -0.027550\n",
      "727             GREAT DANE -0.025800\n",
      "235                  BIG O -0.025800\n",
      "507                 DUCATI  0.000000\n",
      "459                  DELTA  0.000000\n",
      "457                  DELCO  0.159100\n",
      "1095           NATIONAL RV  0.261000\n",
      "\n",
      "[145 rows x 2 columns]\n"
     ]
    }
   ],
   "source": [
    "print(checkManu)"
   ]
  },
  {
   "cell_type": "code",
   "execution_count": 246,
   "metadata": {
    "collapsed": false
   },
   "outputs": [
    {
     "data": {
      "image/png": "[encoded data removed]",
      "text/plain": [
       "<matplotlib.figure.Figure at 0x1dab0ffcf28>"
      ]
     },
     "metadata": {},
     "output_type": "display_data"
    }
   ],
   "source": [
    "checkManu['compound'].plot.bar()\n",
    "plt.axhline(0, color='k')\n",
    "plt.xlabel('make')\n",
    "plt.show()"
   ]
  },
  {
   "cell_type": "code",
   "execution_count": null,
   "metadata": {
    "collapsed": true
   },
   "outputs": [],
   "source": []
  },
  {
   "cell_type": "code",
   "execution_count": 27,
   "metadata": {
    "collapsed": false
   },
   "outputs": [
    {
     "name": "stdout",
     "output_type": "stream",
     "text": [
      "0.081\n"
     ]
    }
   ],
   "source": [
    "print (frankenFrame[5])"
   ]
  },
  {
   "cell_type": "code",
   "execution_count": 11,
   "metadata": {
    "collapsed": true
   },
   "outputs": [],
   "source": [
    "import operator\n"
   ]
  },
  {
   "cell_type": "code",
   "execution_count": 13,
   "metadata": {
    "collapsed": false
   },
   "outputs": [],
   "source": [
    "sortVs = sorted(vs.items(), key=operator.itemgetter(0))"
   ]
  },
  {
   "cell_type": "code",
   "execution_count": 14,
   "metadata": {
    "collapsed": false
   },
   "outputs": [
    {
     "name": "stdout",
     "output_type": "stream",
     "text": [
      "[('compound', -0.6575), ('neg', 0.088), ('neu', 0.831), ('pos', 0.081)]\n"
     ]
    }
   ],
   "source": [
    "print(sortVs)"
   ]
  },
  {
   "cell_type": "code",
   "execution_count": 3,
   "metadata": {
    "collapsed": false
   },
   "outputs": [
    {
     "data": {
      "text/plain": [
       "General Motors LLC                       152829\n",
       "GENERAL MOTORS CORP.                     138021\n",
       "Ford Motor Company                       137322\n",
       "FORD MOTOR COMPANY                       131559\n",
       "DAIMLERCHRYSLER CORPORATION               78895\n",
       "CHRYSLER GROUP LLC                        75396\n",
       "TOYOTA MOTOR CORPORATION                  61899\n",
       "Chrysler (FCA US LLC)                     60378\n",
       "HONDA (AMERICAN HONDA MOTOR CO.)          41848\n",
       "NISSAN NORTH AMERICA, INC.                34411\n",
       "Chrysler Group LLC                        31162\n",
       "Toyota Motor Corporation                  27996\n",
       "Nissan North America, Inc.                27210\n",
       "Honda (American Honda Motor Co.)          25102\n",
       "GENERAL MOTORS LLC                        19793\n",
       "VOLKSWAGEN OF AMERICA, INC                16801\n",
       "MAZDA MOTOR CORP                          12946\n",
       "BMW of North America, LLC                 12505\n",
       "UNKNOWN MANUFACTURER                      11524\n",
       "Volkswagen of America, Inc.                9760\n",
       "MITSUBISHI MOTORS NORTH AMERICA, INC.      9750\n",
       "Hyundai Motor America                      9500\n",
       "HYUNDAI MOTOR COMPANY                      9206\n",
       "TOYOTA MOTOR NORTH AMERICA, INC.           8349\n",
       "KIA MOTORS AMERICA, INC.                   7976\n",
       "MERCEDES-BENZ USA, LLC.                    7705\n",
       "BMW OF NORTH AMERICA, LLC                  7537\n",
       "Volkswagen Group of America, Inc.          7376\n",
       "Mercedes-Benz USA, LLC.                    7281\n",
       "Hyundai Motor Company                      7173\n",
       "                                          ...  \n",
       "Fuel                                          1\n",
       "RUFF & TUFF ELECTRIC VEHICLES                 1\n",
       "American Eagle Wheel Corporation              1\n",
       "TRICO PRODUCTS CORP.                          1\n",
       "ATLANTIC BUS SALES                            1\n",
       "SPORT TRAILERS                                1\n",
       "INDICOM BUILDINGS, INC.                       1\n",
       "WTM, INC.                                     1\n",
       "UNITED TRAILERS, INC.                         1\n",
       "Greenfield Products                           1\n",
       "SHOW TRUCKS USA, INC.                         1\n",
       "Fulmer Helmets, Inc.                          1\n",
       "TOM TOM INTERNATIONAL                         1\n",
       "GLADIATOR CUSTOM TRAILERS INC                 1\n",
       "HEAFNER                                       1\n",
       "Arising Industries, Inc.                      1\n",
       "THINK NORTH AMERICA, INC.                     1\n",
       "HARLEY MURRAY INC.                            1\n",
       "PARKER HANNIFIN CORP.                         1\n",
       "SABERSPORT                                    1\n",
       "CHINA XINGYUE GROUP CO, LTD                   1\n",
       "RIDLEY MOTORCYCLE COMPANY                     1\n",
       "COPCO STEEL & ENG. CO.                        1\n",
       "HALDEX COMMERCIAL VEHICLE SYSTEMS             1\n",
       "C & B Quality Trailer Works, Inc.             1\n",
       "GMAX Helmet LLC.                              1\n",
       "MAGNUM SHEILDING CORPORATION                  1\n",
       "CONCORDE TIRES                                1\n",
       "ROUSH PERFORMANCE PRODUCTS, INC.              1\n",
       "Nu Wa Industries, Inc.                        1\n",
       "Name: Ford Motor Company, dtype: int64"
      ]
     },
     "execution_count": 3,
     "metadata": {},
     "output_type": "execute_result"
    }
   ],
   "source": [
    "carData['Ford Motor Company'].value_counts()"
   ]
  },
  {
   "cell_type": "code",
   "execution_count": null,
   "metadata": {
    "collapsed": true
   },
   "outputs": [],
   "source": []
  }
 ],
 "metadata": {
  "anaconda-cloud": {},
  "kernelspec": {
   "display_name": "Python [conda root]",
   "language": "python",
   "name": "conda-root-py"
  },
  "language_info": {
   "codemirror_mode": {
    "name": "ipython",
    "version": 3
   },
   "file_extension": ".py",
   "mimetype": "text/x-python",
   "name": "python",
   "nbconvert_exporter": "python",
   "pygments_lexer": "ipython3",
   "version": "3.5.2"
  }
 },
 "nbformat": 4,
 "nbformat_minor": 1
}
