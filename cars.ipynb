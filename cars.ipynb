{
 "cells": [
  {
   "cell_type": "code",
   "execution_count": 1,
   "metadata": {
    "collapsed": false
   },
   "outputs": [],
   "source": [
    "import pandas as pd\n",
    "import numpy as np\n",
    "import matplotlib.pyplot as plt\n",
    "from vaderSentiment.vaderSentiment import SentimentIntensityAnalyzer\n",
    "pd.options.display.max_colwidth = 300\n",
    "pd.set_option('display.max_columns', 1000)\n",
    "\n",
    "#added by owen. \n",
    "\n"
   ]
  },
  {
   "cell_type": "code",
   "execution_count": null,
   "metadata": {
    "collapsed": false
   },
   "outputs": [],
   "source": [
    "\n"
   ]
  },
  {
   "cell_type": "code",
   "execution_count": null,
   "metadata": {
    "collapsed": false,
    "scrolled": false
   },
   "outputs": [],
   "source": [
    "carData = pd.read_table(r\"FLAT_CMPL.txt\", error_bad_lines = False,  encoding = 'latin1')"
   ]
  },
  {
   "cell_type": "code",
   "execution_count": null,
   "metadata": {
    "collapsed": false
   },
   "outputs": [],
   "source": [
    "carData.columns = ['cmplid', 'odino', 'mfr_name', 'maketxt', 'modeltxt','yeartxt', 'crash','faildate','fire','injured','deaths','compdesc','city', 'state', 'vin', 'datea', 'ldate', 'miles', 'occurences', 'cdescr', 'cmpl_type', 'police_rpt_yn', 'purch_dt', 'orig_owner_yn', 'anti_breaks_yn', 'cruise_cont_yn', 'num_cyls', 'drive_train', 'fuel_sys', 'fuel_type', 'trans_type', 'veh_speed', 'dot', 'tire_size', 'loc_of_tire', 'tire_fail_type','orig_equip_yn', 'manuf_dt', 'seat_type', 'restraint_type', 'dealer_name', 'dealer_tel', 'dealer_city', 'dealer_state', 'dealer_zip', 'prod_type', 'repaired_yn', 'medical_attn', 'veichles_towed_yn']\n",
    "#added by owen. "
   ]
  },
  {
   "cell_type": "code",
   "execution_count": null,
   "metadata": {
    "collapsed": true
   },
   "outputs": [],
   "source": [
    "analyzer = SentimentIntensityAnalyzer()\n",
    "\n"
   ]
  },
  {
   "cell_type": "code",
   "execution_count": null,
   "metadata": {
    "collapsed": true
   },
   "outputs": [],
   "source": []
  },
  {
   "cell_type": "code",
   "execution_count": null,
   "metadata": {
    "collapsed": false,
    "scrolled": true
   },
   "outputs": [],
   "source": [
    "carData.keys()\n",
    "\n"
   ]
  },
  {
   "cell_type": "code",
   "execution_count": null,
   "metadata": {
    "collapsed": false
   },
   "outputs": [],
   "source": [
    "carData"
   ]
  },
  {
   "cell_type": "code",
   "execution_count": null,
   "metadata": {
    "collapsed": false
   },
   "outputs": [],
   "source": [
    "carData.describe()\n",
    "\n"
   ]
  },
  {
   "cell_type": "code",
   "execution_count": null,
   "metadata": {
    "collapsed": false
   },
   "outputs": [],
   "source": [
    "\n",
    "\n",
    "\n",
    "\n"
   ]
  },
  {
   "cell_type": "code",
   "execution_count": null,
   "metadata": {
    "collapsed": false,
    "scrolled": false
   },
   "outputs": [],
   "source": [
    "#Collecting all of the numeric data into a lovely franken frame. Strings are also taken. This allows us to mine sentiment. \n",
    "# all possible columns = 'cmplid', 'odino', 'mfr_name', 'maketxt', 'modeltxt','yeartxt', 'crash','faildate','fire','injured','deaths','compdesc','city', 'state', 'vin','datea', 'ldate', 'miles', 'occurences', 'cdescr', 'cmpl_type', 'police_rpt_yn', 'purch_dt', 'orig_owner_yn', 'anti_breaks_yn', 'cruise_cont_yn', 'num_cyls', 'drive_train', 'fuel_sys', 'fuel_type', 'trans_type', 'veh_speed', 'dot', 'tire_size', 'loc_of_tire', 'tire_fail_type','orig_equip_yn', 'manuf_dt', 'seat_type', 'restraint_type', 'dealer_name', 'dealer_tel', 'dealer_city', 'dealer_state', 'dealer_zip', 'prod_type', 'repaired_yn', 'medical_attn', 'veichles_towed_yn'\n",
    "frankenFrame = pd.DataFrame(columns = ['string', 'manufacturer', 'make', 'model', 'year' 'antilock', 'fire', 'injured', 'death','crash', 'miles', 'police_rpt_yn', 'cruise_cont_yn', 'fuel_sys', 'trans_type', 'veh_speed', 'tire_size', 'orig_equip_yn', 'seat_type', 'restraint_type', 'repaired_yn', 'medical_attn', 'veichles_towed_yn', 'compound',])\n",
    "#frankenFrame['ComplaintNum'] = carData['1'] # No longer kept track of in order to drop duplicates. \n",
    "frankenFrame['string'] = carData['cdescr']\n",
    "frankenFrame['manufacturer'] = carData['mfr_name']\n",
    "frankenFrame['make'] = carData['maketxt']\n",
    "frankenFrame['model'] = carData['modeltxt']\n",
    "frankenFrame['antilock'] = carData['anti_breaks_yn']\n",
    "frankenFrame['fire'] = carData['fire']\n",
    "frankenFrame['injured'] = carData['injured']\n",
    "frankenFrame['crash'] = carData['crash']\n",
    "frankenFrame['miles'] = carData['miles']\n",
    "frankenFrame['police_rpt_yn'] = carData['police_rpt_yn']\n",
    "frankenFrame['cruise_cont_yn'] = carData['cruise_cont_yn']\n",
    "frankenFrame['fuel_sys'] = carData['fuel_sys']\n",
    "frankenFrame['trans_type'] = carData['trans_type']\n",
    "frankenFrame['veh_speed'] = carData['veh_speed']\n",
    "frankenFrame['tire_size'] = carData['tire_size']\n",
    "frankenFrame['orig_equip_yn'] = carData['orig_equip_yn']\n",
    "frankenFrame['seat_type'] = carData['seat_type']\n",
    "frankenFrame['restraint_type'] = carData['restraint_type']\n",
    "frankenFrame['repaired_yn'] = carData['repaired_yn']\n",
    "frankenFrame['medical_attn'] = carData['medical_attn']\n",
    "frankenFrame['veichles_towed_yn'] = carData['veichles_towed_yn']\n",
    "frankenFrame['year'] = carData['yeartxt']\n",
    "\n",
    "#added by owen. "
   ]
  },
  {
   "cell_type": "code",
   "execution_count": null,
   "metadata": {
    "collapsed": false
   },
   "outputs": [],
   "source": [
    "#cleaning repeated rows. \n",
    "frankenFrame = frankenFrame.drop_duplicates()\n",
    "\n"
   ]
  },
  {
   "cell_type": "code",
   "execution_count": null,
   "metadata": {
    "collapsed": false
   },
   "outputs": [],
   "source": [
    "frankenFrame\n",
    "\n",
    "\n",
    "\n"
   ]
  },
  {
   "cell_type": "code",
   "execution_count": null,
   "metadata": {
    "collapsed": false
   },
   "outputs": [],
   "source": [
    "frankenFrame = frankenFrame[pd.notnull(frankenFrame['string'])]\n",
    "\n",
    "\n"
   ]
  },
  {
   "cell_type": "code",
   "execution_count": null,
   "metadata": {
    "collapsed": false
   },
   "outputs": [],
   "source": [
    "frankenFrame\n"
   ]
  },
  {
   "cell_type": "code",
   "execution_count": null,
   "metadata": {
    "collapsed": false
   },
   "outputs": [],
   "source": [
    "frankenFrame = frankenFrame.reset_index()"
   ]
  },
  {
   "cell_type": "code",
   "execution_count": null,
   "metadata": {
    "collapsed": false
   },
   "outputs": [],
   "source": [
    "total_rows = frankenFrame.count()\n",
    "print (total_rows)"
   ]
  },
  {
   "cell_type": "code",
   "execution_count": null,
   "metadata": {
    "collapsed": false
   },
   "outputs": [],
   "source": [
    "recalls = pd.read_table(r\"D:\\FLAT_RCL.txt\", error_bad_lines = False,  encoding = 'ISO-8859-1')\n",
    "recalls.columns = ['cmplid', 'odino', 'maketxt', 'modeltxt', 'yeartxt', '1', '2','3','4','5','6', '7','8','9','10', '11', '12', '13', '14', '15', '16', '17', '18', '19']#may add type of recall, too...\n"
   ]
  },
  {
   "cell_type": "code",
   "execution_count": null,
   "metadata": {
    "collapsed": false
   },
   "outputs": [],
   "source": [
    "recalls\n",
    "\n",
    "\n"
   ]
  },
  {
   "cell_type": "code",
   "execution_count": null,
   "metadata": {
    "collapsed": false
   },
   "outputs": [],
   "source": [
    "count = 0\n",
    "\n",
    "#method for checking recalls. \n",
    "\n",
    "\n",
    "for index, row in frankenFrame.iterrows(): # this is a test... \n",
    "    if count >= 100: #only 100000 for now... \n",
    "        break\n",
    "    #frankenFrame['pos'] += vs['pos']\n",
    "    #frankenFrame['neg'] += vs['neg']\n",
    "    \n",
    "    for index2, row2 in recalls.iterrows()\n",
    "        if row['maketxt'] = row2['maketxt'] and row['modeltxt'] = row2['modeltxt'] and row['yeartxt'] = row2['yeartxt']:\n",
    "            row['isRecalled'] = 't'\n",
    "            break\n",
    "        \n",
    "\n",
    "    row['isRecalled'] = 'f'\n",
    "    \n",
    "    count += 1\n",
    "    #added by owen. "
   ]
  },
  {
   "cell_type": "code",
   "execution_count": null,
   "metadata": {
    "collapsed": false
   },
   "outputs": [],
   "source": [
    "#vs = np.array()\n",
    "\n",
    "\n",
    "\n",
    "count = 0\n",
    "\n",
    "sent = pd.DataFrame(columns = ['compound'])\n",
    "vs = pd.DataFrame()\n",
    "\n",
    "for index, row in frankenFrame.iterrows(): # this is a test... \n",
    "    \n",
    "    \n",
    "    \n",
    "    \n",
    "    if count >= 50000: #only 100000 for now... \n",
    "        break\n",
    "    #frankenFrame['pos'] += vs['pos']\n",
    "    #frankenFrame['neg'] += vs['neg']\n",
    "    \n",
    "    if count <= 50000:\n",
    "        vs = analyzer.polarity_scores(row['string'])\n",
    "        #print(vs)\n",
    "        \n",
    "        frankenFrame.ix[index, 'compound'] = vs['compound']\n",
    "        \n",
    "        #row['compound'] = vs['compound']\n",
    "        \n",
    "        sent = sent.append( vs, ignore_index=True)\n",
    "        sent.ix[index, 'index'] = index\n",
    "        sent.ix[index, 'string'] = row['string']\n",
    "        sent.ix[index, 'make'] = row['make']\n",
    "        sent.ix[index, 'model'] = row['model']\n",
    "        #frankenFrame = frankenFrame.append(vs, ignore_index=True)\n",
    "    \n",
    "    \n",
    "    count += 1\n",
    "    \n",
    "   \n",
    "    \n",
    "    #added by owen. "
   ]
  },
  {
   "cell_type": "code",
   "execution_count": null,
   "metadata": {
    "collapsed": false
   },
   "outputs": [],
   "source": [
    "frankenFrame"
   ]
  },
  {
   "cell_type": "code",
   "execution_count": null,
   "metadata": {
    "collapsed": true
   },
   "outputs": [],
   "source": [
    "#vs = np.array()\n",
    "\n",
    "\n",
    "\n",
    "count = 0\n",
    "\n",
    "sent2 = pd.DataFrame(columns = ['compound'])\n",
    "vs = pd.DataFrame()\n",
    "\n",
    "for index, row in frankenFrame.iterrows(): # this is a test... \n",
    "    \n",
    "    \n",
    "    \n",
    "    \n",
    "    if count >= 100000: #only 100000 for now... \n",
    "        break\n",
    "    #frankenFrame['pos'] += vs['pos']\n",
    "    #frankenFrame['neg'] += vs['neg']\n",
    "    \n",
    "    if count >= 50000:\n",
    "        vs = analyzer.polarity_scores(row['string'])\n",
    "        #print(vs)\n",
    "        \n",
    "        #frankenFrame.ix[index, 'compound'] = vs['compound']\n",
    "        \n",
    "        #row['compound'] = vs['compound']\n",
    "        \n",
    "        sent2 = sent2.append( vs, ignore_index=True)\n",
    "        sent2.ix[index, 'index'] = index\n",
    "        sent2.ix[index, 'string'] = row['string']\n",
    "        sent2.ix[index, 'make'] = row['make']\n",
    "        sent2.ix[index, 'model'] = row['model']\n",
    "        \n",
    "        #frankenFrame = frankenFrame.append(vs, ignore_index=True)\n",
    "    \n",
    "    \n",
    "    count += 1\n",
    "    \n",
    "   \n",
    "    \n",
    "    #added by owen. "
   ]
  },
  {
   "cell_type": "code",
   "execution_count": null,
   "metadata": {
    "collapsed": true
   },
   "outputs": [],
   "source": [
    "#vs = np.array()\n",
    "\n",
    "\n",
    "\n",
    "count = 0\n",
    "\n",
    "sent3 = pd.DataFrame(columns = ['compound'])\n",
    "vs = pd.DataFrame()\n",
    "\n",
    "for index, row in frankenFrame.iterrows(): # this is a test... \n",
    "    \n",
    "    \n",
    "    \n",
    "    \n",
    "    if count >= 50000: #only 100000 for now... \n",
    "        break\n",
    "    #frankenFrame['pos'] += vs['pos']\n",
    "    #frankenFrame['neg'] += vs['neg']\n",
    "    \n",
    "    if count <= 50000:\n",
    "        vs = analyzer.polarity_scores(row['string'])\n",
    "        #print(vs)\n",
    "        \n",
    "        frankenFrame.ix[index, 'compound'] = vs['compound']\n",
    "        \n",
    "        #row['compound'] = vs['compound']\n",
    "        \n",
    "        sent3 = sent3.append( vs, ignore_index=True)\n",
    "        #frankenFrame = frankenFrame.append(vs, ignore_index=True)\n",
    "    \n",
    "    \n",
    "    count += 1\n",
    "    \n",
    "   \n",
    "    \n",
    "    #added by owen. \n"
   ]
  },
  {
   "cell_type": "code",
   "execution_count": null,
   "metadata": {
    "collapsed": true
   },
   "outputs": [],
   "source": [
    "#vs = np.array()\n",
    "\n",
    "\n",
    "\n",
    "count = 0\n",
    "\n",
    "sent4 = pd.DataFrame(columns = ['compound'])\n",
    "vs = pd.DataFrame()\n",
    "\n",
    "for index, row in frankenFrame.iterrows(): # this is a test... \n",
    "    \n",
    "    \n",
    "    \n",
    "    \n",
    "    if count >= 50000: #only 100000 for now... \n",
    "        break\n",
    "    #frankenFrame['pos'] += vs['pos']\n",
    "    #frankenFrame['neg'] += vs['neg']\n",
    "    \n",
    "    if count <= 50000:\n",
    "        vs = analyzer.polarity_scores(row['string'])\n",
    "        #print(vs)\n",
    "        \n",
    "        frankenFrame.ix[index, 'compound'] = vs['compound']\n",
    "        \n",
    "        #row['compound'] = vs['compound']\n",
    "        \n",
    "        sent4 = sent4.append( vs, ignore_index=True)\n",
    "        #frankenFrame = frankenFrame.append(vs, ignore_index=True)\n",
    "    \n",
    "    \n",
    "    count += 1\n",
    "    \n",
    "   \n",
    "    \n",
    "    #added by owen. "
   ]
  },
  {
   "cell_type": "code",
   "execution_count": null,
   "metadata": {
    "collapsed": true
   },
   "outputs": [],
   "source": [
    "#vs = np.array()\n",
    "\n",
    "\n",
    "\n",
    "count = 0\n",
    "\n",
    "sent5 = pd.DataFrame(columns = ['compound'])\n",
    "vs = pd.DataFrame()\n",
    "\n",
    "for index, row in frankenFrame.iterrows(): # this is a test... \n",
    "    \n",
    "    \n",
    "    \n",
    "    \n",
    "    if count >= 50000: #only 100000 for now... \n",
    "        break\n",
    "    #frankenFrame['pos'] += vs['pos']\n",
    "    #frankenFrame['neg'] += vs['neg']\n",
    "    \n",
    "    if count <= 50000:\n",
    "        vs = analyzer.polarity_scores(row['string'])\n",
    "        #print(vs)\n",
    "        \n",
    "        frankenFrame.ix[index, 'compound'] = vs['compound']\n",
    "        \n",
    "        #row['compound'] = vs['compound']\n",
    "        \n",
    "        sent5 = sent5.append( vs, ignore_index=True)\n",
    "        #frankenFrame = frankenFrame.append(vs, ignore_index=True)\n",
    "    \n",
    "    \n",
    "    count += 1\n",
    "    \n",
    "   \n",
    "    \n",
    "    #added by owen. "
   ]
  },
  {
   "cell_type": "code",
   "execution_count": null,
   "metadata": {
    "collapsed": true
   },
   "outputs": [],
   "source": [
    "#vs = np.array()\n",
    "\n",
    "\n",
    "\n",
    "count = 0\n",
    "\n",
    "sent6 = pd.DataFrame(columns = ['compound'])\n",
    "vs = pd.DataFrame()\n",
    "\n",
    "for index, row in frankenFrame.iterrows(): # this is a test... \n",
    "    \n",
    "    \n",
    "    \n",
    "    \n",
    "    if count >= 50000: #only 100000 for now... \n",
    "        break\n",
    "    #frankenFrame['pos'] += vs['pos']\n",
    "    #frankenFrame['neg'] += vs['neg']\n",
    "    \n",
    "    if count <= 50000:\n",
    "        vs = analyzer.polarity_scores(row['string'])\n",
    "        #print(vs)\n",
    "        \n",
    "        frankenFrame.ix[index, 'compound'] = vs['compound']\n",
    "        \n",
    "        #row['compound'] = vs['compound']\n",
    "        \n",
    "        sent6 = sent6.append( vs, ignore_index=True)\n",
    "        #frankenFrame = frankenFrame.append(vs, ignore_index=True)\n",
    "    \n",
    "    \n",
    "    count += 1\n",
    "    \n",
    "   \n",
    "    \n",
    "    #added by owen. "
   ]
  },
  {
   "cell_type": "code",
   "execution_count": null,
   "metadata": {
    "collapsed": true
   },
   "outputs": [],
   "source": [
    "#vs = np.array()\n",
    "\n",
    "\n",
    "\n",
    "count = 0\n",
    "\n",
    "sent7 = pd.DataFrame(columns = ['compound'])\n",
    "vs = pd.DataFrame()\n",
    "\n",
    "for index, row in frankenFrame.iterrows(): # this is a test... \n",
    "    \n",
    "    \n",
    "    \n",
    "    \n",
    "    if count >= 50000: #only 100000 for now... \n",
    "        break\n",
    "    #frankenFrame['pos'] += vs['pos']\n",
    "    #frankenFrame['neg'] += vs['neg']\n",
    "    \n",
    "    if count <= 50000:\n",
    "        vs = analyzer.polarity_scores(row['string'])\n",
    "        #print(vs)\n",
    "        \n",
    "        frankenFrame.ix[index, 'compound'] = vs['compound']\n",
    "        \n",
    "        #row['compound'] = vs['compound']\n",
    "        \n",
    "        sent7 = sent7.append( vs, ignore_index=True)\n",
    "        #frankenFrame = frankenFrame.append(vs, ignore_index=True)\n",
    "    \n",
    "    \n",
    "    count += 1\n",
    "    \n",
    "   \n",
    "    \n",
    "    #added by owen. "
   ]
  },
  {
   "cell_type": "code",
   "execution_count": null,
   "metadata": {
    "collapsed": true
   },
   "outputs": [],
   "source": [
    "#vs = np.array()\n",
    "\n",
    "\n",
    "\n",
    "count = 0\n",
    "\n",
    "sent8 = pd.DataFrame(columns = ['compound'])\n",
    "vs = pd.DataFrame()\n",
    "\n",
    "for index, row in frankenFrame.iterrows(): # this is a test... \n",
    "    \n",
    "    \n",
    "    \n",
    "    \n",
    "    if count >= 50000: #only 100000 for now... \n",
    "        break\n",
    "    #frankenFrame['pos'] += vs['pos']\n",
    "    #frankenFrame['neg'] += vs['neg']\n",
    "    \n",
    "    if count <= 50000:\n",
    "        vs = analyzer.polarity_scores(row['string'])\n",
    "        #print(vs)\n",
    "        \n",
    "        frankenFrame.ix[index, 'compound'] = vs['compound']\n",
    "        \n",
    "        #row['compound'] = vs['compound']\n",
    "        \n",
    "        sent8 = sent8.append( vs, ignore_index=True)\n",
    "        #frankenFrame = frankenFrame.append(vs, ignore_index=True)\n",
    "    \n",
    "    \n",
    "    count += 1\n",
    "    \n",
    "   \n",
    "    \n",
    "    #added by owen. "
   ]
  },
  {
   "cell_type": "code",
   "execution_count": null,
   "metadata": {
    "collapsed": true
   },
   "outputs": [],
   "source": [
    "#vs = np.array()\n",
    "\n",
    "\n",
    "\n",
    "count = 0\n",
    "\n",
    "sent9 = pd.DataFrame(columns = ['compound'])\n",
    "vs = pd.DataFrame()\n",
    "\n",
    "for index, row in frankenFrame.iterrows(): # this is a test... \n",
    "    \n",
    "    \n",
    "    \n",
    "    \n",
    "    if count >= 50000: #only 100000 for now... \n",
    "        break\n",
    "    #frankenFrame['pos'] += vs['pos']\n",
    "    #frankenFrame['neg'] += vs['neg']\n",
    "    \n",
    "    if count <= 50000:\n",
    "        vs = analyzer.polarity_scores(row['string'])\n",
    "        #print(vs)\n",
    "        \n",
    "        frankenFrame.ix[index, 'compound'] = vs['compound']\n",
    "        \n",
    "        #row['compound'] = vs['compound']\n",
    "        \n",
    "        sent9 = sent9.append( vs, ignore_index=True)\n",
    "        #frankenFrame = frankenFrame.append(vs, ignore_index=True)\n",
    "    \n",
    "    \n",
    "    count += 1\n",
    "    \n",
    "   \n",
    "    \n",
    "    #added by owen. "
   ]
  },
  {
   "cell_type": "code",
   "execution_count": null,
   "metadata": {
    "collapsed": true
   },
   "outputs": [],
   "source": [
    "#vs = np.array()\n",
    "\n",
    "\n",
    "\n",
    "count = 0\n",
    "\n",
    "sent10 = pd.DataFrame(columns = ['compound'])\n",
    "vs = pd.DataFrame()\n",
    "\n",
    "for index, row in frankenFrame.iterrows(): # this is a test... \n",
    "    \n",
    "    \n",
    "    \n",
    "    \n",
    "    if count >= 50000: #only 100000 for now... \n",
    "        break\n",
    "    #frankenFrame['pos'] += vs['pos']\n",
    "    #frankenFrame['neg'] += vs['neg']\n",
    "    \n",
    "    if count <= 50000:\n",
    "        vs = analyzer.polarity_scores(row['string'])\n",
    "        #print(vs)\n",
    "        \n",
    "        frankenFrame.ix[index, 'compound'] = vs['compound']\n",
    "        \n",
    "        #row['compound'] = vs['compound']\n",
    "        \n",
    "        sent10 = sent10.append( vs, ignore_index=True)\n",
    "        #frankenFrame = frankenFrame.append(vs, ignore_index=True)\n",
    "    \n",
    "    \n",
    "    count += 1\n",
    "    \n",
    "   \n",
    "    \n",
    "    #added by owen. "
   ]
  },
  {
   "cell_type": "code",
   "execution_count": null,
   "metadata": {
    "collapsed": true
   },
   "outputs": [],
   "source": [
    "#vs = np.array()\n",
    "\n",
    "\n",
    "\n",
    "count = 0\n",
    "\n",
    "sent11 = pd.DataFrame(columns = ['compound'])\n",
    "vs = pd.DataFrame()\n",
    "\n",
    "for index, row in frankenFrame.iterrows(): # this is a test... \n",
    "    \n",
    "    \n",
    "    \n",
    "    \n",
    "    if count >= 50000: #only 100000 for now... \n",
    "        break\n",
    "    #frankenFrame['pos'] += vs['pos']\n",
    "    #frankenFrame['neg'] += vs['neg']\n",
    "    \n",
    "    if count <= 50000:\n",
    "        vs = analyzer.polarity_scores(row['string'])\n",
    "        #print(vs)\n",
    "        \n",
    "        frankenFrame.ix[index, 'compound'] = vs['compound']\n",
    "        \n",
    "        #row['compound'] = vs['compound']\n",
    "        \n",
    "        sent11 = sent11.append( vs, ignore_index=True)\n",
    "        #frankenFrame = frankenFrame.append(vs, ignore_index=True)\n",
    "    \n",
    "    \n",
    "    count += 1\n",
    "    \n",
    "   \n",
    "    \n",
    "    #added by owen. \n",
    "    "
   ]
  },
  {
   "cell_type": "code",
   "execution_count": null,
   "metadata": {
    "collapsed": true
   },
   "outputs": [],
   "source": [
    "#vs = np.array()\n",
    "\n",
    "\n",
    "\n",
    "count = 0\n",
    "\n",
    "sent12 = pd.DataFrame(columns = ['compound'])\n",
    "vs = pd.DataFrame()\n",
    "\n",
    "for index, row in frankenFrame.iterrows(): # this is a test... \n",
    "    \n",
    "    \n",
    "    \n",
    "    \n",
    "    if count >= 50000: #only 100000 for now... \n",
    "        break\n",
    "    #frankenFrame['pos'] += vs['pos']\n",
    "    #frankenFrame['neg'] += vs['neg']\n",
    "    \n",
    "    if count <= 50000:\n",
    "        vs = analyzer.polarity_scores(row['string'])\n",
    "        #print(vs)\n",
    "        \n",
    "        frankenFrame.ix[index, 'compound'] = vs['compound']\n",
    "        \n",
    "        #row['compound'] = vs['compound']\n",
    "        \n",
    "        sent12 = sent12.append( vs, ignore_index=True)\n",
    "        #frankenFrame = frankenFrame.append(vs, ignore_index=True)\n",
    "    \n",
    "    \n",
    "    count += 1\n",
    "    \n",
    "   \n",
    "    \n",
    "    #added by owen. "
   ]
  },
  {
   "cell_type": "code",
   "execution_count": null,
   "metadata": {
    "collapsed": true
   },
   "outputs": [],
   "source": [
    "#vs = np.array()\n",
    "\n",
    "\n",
    "\n",
    "count = 0\n",
    "\n",
    "sent13 = pd.DataFrame(columns = ['compound'])\n",
    "vs = pd.DataFrame()\n",
    "\n",
    "for index, row in frankenFrame.iterrows(): # this is a test... \n",
    "    \n",
    "    \n",
    "    \n",
    "    \n",
    "    if count >= 50000: #only 100000 for now... \n",
    "        break\n",
    "    #frankenFrame['pos'] += vs['pos']\n",
    "    #frankenFrame['neg'] += vs['neg']\n",
    "    \n",
    "    if count <= 50000:\n",
    "        vs = analyzer.polarity_scores(row['string'])\n",
    "        #print(vs)\n",
    "        \n",
    "        frankenFrame.ix[index, 'compound'] = vs['compound']\n",
    "        \n",
    "        #row['compound'] = vs['compound']\n",
    "        \n",
    "        sent13 = sent13.append( vs, ignore_index=True)\n",
    "        #frankenFrame = frankenFrame.append(vs, ignore_index=True)\n",
    "    \n",
    "    \n",
    "    count += 1\n",
    "    \n",
    "   \n",
    "    \n",
    "    #added by owen. "
   ]
  },
  {
   "cell_type": "code",
   "execution_count": null,
   "metadata": {
    "collapsed": true
   },
   "outputs": [],
   "source": [
    "#vs = np.array()\n",
    "\n",
    "\n",
    "\n",
    "count = 0\n",
    "\n",
    "sent14 = pd.DataFrame(columns = ['compound'])\n",
    "vs = pd.DataFrame()\n",
    "\n",
    "for index, row in frankenFrame.iterrows(): # this is a test... \n",
    "    \n",
    "    \n",
    "    \n",
    "    \n",
    "    if count >= 50000: #only 100000 for now... \n",
    "        break\n",
    "    #frankenFrame['pos'] += vs['pos']\n",
    "    #frankenFrame['neg'] += vs['neg']\n",
    "    \n",
    "    if count <= 50000:\n",
    "        vs = analyzer.polarity_scores(row['string'])\n",
    "        #print(vs)\n",
    "        \n",
    "        frankenFrame.ix[index, 'compound'] = vs['compound']\n",
    "        \n",
    "        #row['compound'] = vs['compound']\n",
    "        \n",
    "        sent14 = sent14.append( vs, ignore_index=True)\n",
    "        #frankenFrame = frankenFrame.append(vs, ignore_index=True)\n",
    "    \n",
    "    \n",
    "    count += 1\n",
    "    \n",
    "   \n",
    "    \n",
    "    #added by owen. "
   ]
  },
  {
   "cell_type": "code",
   "execution_count": null,
   "metadata": {
    "collapsed": true
   },
   "outputs": [],
   "source": [
    "#vs = np.array()\n",
    "\n",
    "\n",
    "\n",
    "count = 0\n",
    "\n",
    "sent15 = pd.DataFrame(columns = ['compound'])\n",
    "vs = pd.DataFrame()\n",
    "\n",
    "for index, row in frankenFrame.iterrows(): # this is a test... \n",
    "    \n",
    "    \n",
    "    \n",
    "    \n",
    "    if count >= 50000: #only 100000 for now... \n",
    "        break\n",
    "    #frankenFrame['pos'] += vs['pos']\n",
    "    #frankenFrame['neg'] += vs['neg']\n",
    "    \n",
    "    if count <= 50000:\n",
    "        vs = analyzer.polarity_scores(row['string'])\n",
    "        #print(vs)\n",
    "        \n",
    "        frankenFrame.ix[index, 'compound'] = vs['compound']\n",
    "        \n",
    "        #row['compound'] = vs['compound']\n",
    "        \n",
    "        sent15 = sent15.append( vs, ignore_index=True)\n",
    "        #frankenFrame = frankenFrame.append(vs, ignore_index=True)\n",
    "    \n",
    "    \n",
    "    count += 1\n",
    "    \n",
    "   \n",
    "    \n",
    "    #added by owen. \n",
    "    "
   ]
  },
  {
   "cell_type": "code",
   "execution_count": null,
   "metadata": {
    "collapsed": true
   },
   "outputs": [],
   "source": [
    "#vs = np.array()\n",
    "\n",
    "\n",
    "\n",
    "count = 0\n",
    "\n",
    "sent16 = pd.DataFrame(columns = ['compound'])\n",
    "vs = pd.DataFrame()\n",
    "\n",
    "for index, row in frankenFrame.iterrows(): # this is a test... \n",
    "    \n",
    "    \n",
    "    \n",
    "    \n",
    "    if count >= 50000: #only 100000 for now... \n",
    "        break\n",
    "    #frankenFrame['pos'] += vs['pos']\n",
    "    #frankenFrame['neg'] += vs['neg']\n",
    "    \n",
    "    if count <= 50000:\n",
    "        vs = analyzer.polarity_scores(row['string'])\n",
    "        #print(vs)\n",
    "        \n",
    "        frankenFrame.ix[index, 'compound'] = vs['compound']\n",
    "        \n",
    "        #row['compound'] = vs['compound']\n",
    "        \n",
    "        sent16 = sent16.append( vs, ignore_index=True)\n",
    "        #frankenFrame = frankenFrame.append(vs, ignore_index=True)\n",
    "    \n",
    "    \n",
    "    count += 1\n",
    "    \n",
    "   \n",
    "    \n",
    "    #added by owen. \n",
    "    "
   ]
  },
  {
   "cell_type": "code",
   "execution_count": null,
   "metadata": {
    "collapsed": true
   },
   "outputs": [],
   "source": [
    "#vs = np.array()\n",
    "\n",
    "\n",
    "\n",
    "count = 0\n",
    "\n",
    "sent17 = pd.DataFrame(columns = ['compound'])\n",
    "vs = pd.DataFrame()\n",
    "\n",
    "for index, row in frankenFrame.iterrows(): # this is a test... \n",
    "    \n",
    "    \n",
    "    \n",
    "    \n",
    "    if count >= 50000: #only 100000 for now... \n",
    "        break\n",
    "    #frankenFrame['pos'] += vs['pos']\n",
    "    #frankenFrame['neg'] += vs['neg']\n",
    "    \n",
    "    if count <= 50000:\n",
    "        vs = analyzer.polarity_scores(row['string'])\n",
    "        #print(vs)\n",
    "        \n",
    "        frankenFrame.ix[index, 'compound'] = vs['compound']\n",
    "        \n",
    "        #row['compound'] = vs['compound']\n",
    "        \n",
    "        sent17 = sent17.append( vs, ignore_index=True)\n",
    "        #frankenFrame = frankenFrame.append(vs, ignore_index=True)\n",
    "    \n",
    "    \n",
    "    count += 1\n",
    "    \n",
    "   \n",
    "    \n",
    "    #added by owen. "
   ]
  },
  {
   "cell_type": "code",
   "execution_count": null,
   "metadata": {
    "collapsed": true
   },
   "outputs": [],
   "source": [
    "#vs = np.array()\n",
    "\n",
    "\n",
    "\n",
    "count = 0\n",
    "\n",
    "sent18 = pd.DataFrame(columns = ['compound'])\n",
    "vs = pd.DataFrame()\n",
    "\n",
    "for index, row in frankenFrame.iterrows(): # this is a test... \n",
    "    \n",
    "    \n",
    "    \n",
    "    \n",
    "    if count >= 50000: #only 100000 for now... \n",
    "        break\n",
    "    #frankenFrame['pos'] += vs['pos']\n",
    "    #frankenFrame['neg'] += vs['neg']\n",
    "    \n",
    "    if count <= 50000:\n",
    "        vs = analyzer.polarity_scores(row['string'])\n",
    "        #print(vs)\n",
    "        \n",
    "        frankenFrame.ix[index, 'compound'] = vs['compound']\n",
    "        \n",
    "        #row['compound'] = vs['compound']\n",
    "        \n",
    "        sent18 = sent18.append( vs, ignore_index=True)\n",
    "        #frankenFrame = frankenFrame.append(vs, ignore_index=True)\n",
    "    \n",
    "    \n",
    "    count += 1\n",
    "    \n",
    "   \n",
    "    \n",
    "    #added by owen. "
   ]
  },
  {
   "cell_type": "code",
   "execution_count": null,
   "metadata": {
    "collapsed": true
   },
   "outputs": [],
   "source": [
    "#vs = np.array()\n",
    "\n",
    "\n",
    "\n",
    "count = 0\n",
    "\n",
    "sent19 = pd.DataFrame(columns = ['compound'])\n",
    "vs = pd.DataFrame()\n",
    "\n",
    "for index, row in frankenFrame.iterrows(): # this is a test... \n",
    "    \n",
    "    \n",
    "    \n",
    "    \n",
    "    if count >= 50000: #only 100000 for now... \n",
    "        break\n",
    "    #frankenFrame['pos'] += vs['pos']\n",
    "    #frankenFrame['neg'] += vs['neg']\n",
    "    \n",
    "    if count <= 50000:\n",
    "        vs = analyzer.polarity_scores(row['string'])\n",
    "        #print(vs)\n",
    "        \n",
    "        frankenFrame.ix[index, 'compound'] = vs['compound']\n",
    "        \n",
    "        #row['compound'] = vs['compound']\n",
    "        \n",
    "        sent19 = sent19.append( vs, ignore_index=True)\n",
    "        #frankenFrame = frankenFrame.append(vs, ignore_index=True)\n",
    "    \n",
    "    \n",
    "    count += 1\n",
    "    \n",
    "   \n",
    "    \n",
    "    #added by owen. "
   ]
  },
  {
   "cell_type": "code",
   "execution_count": null,
   "metadata": {
    "collapsed": true
   },
   "outputs": [],
   "source": [
    "#vs = np.array()\n",
    "\n",
    "\n",
    "\n",
    "count = 0\n",
    "\n",
    "sent20 = pd.DataFrame(columns = ['compound'])\n",
    "vs = pd.DataFrame()\n",
    "\n",
    "for index, row in frankenFrame.iterrows(): # this is a test... \n",
    "    \n",
    "    \n",
    "    \n",
    "    \n",
    "    if count >= 50000: #only 100000 for now... \n",
    "        break\n",
    "    #frankenFrame['pos'] += vs['pos']\n",
    "    #frankenFrame['neg'] += vs['neg']\n",
    "    \n",
    "    if count <= 50000:\n",
    "        vs = analyzer.polarity_scores(row['string'])\n",
    "        #print(vs)\n",
    "        \n",
    "        frankenFrame.ix[index, 'compound'] = vs['compound']\n",
    "        \n",
    "        #row['compound'] = vs['compound']\n",
    "        \n",
    "        sent20 = sent20.append( vs, ignore_index=True)\n",
    "        #frankenFrame = frankenFrame.append(vs, ignore_index=True)\n",
    "    \n",
    "    \n",
    "    count += 1\n",
    "    \n",
    "   \n",
    "    \n",
    "    #added by owen. "
   ]
  },
  {
   "cell_type": "code",
   "execution_count": null,
   "metadata": {
    "collapsed": true
   },
   "outputs": [],
   "source": [
    "#vs = np.array()\n",
    "\n",
    "\n",
    "\n",
    "count = 0\n",
    "\n",
    "sent21 = pd.DataFrame(columns = ['compound'])\n",
    "vs = pd.DataFrame()\n",
    "\n",
    "for index, row in frankenFrame.iterrows(): # this is a test... \n",
    "    \n",
    "    \n",
    "    \n",
    "    \n",
    "    if count >= 50000: #only 100000 for now... \n",
    "        break\n",
    "    #frankenFrame['pos'] += vs['pos']\n",
    "    #frankenFrame['neg'] += vs['neg']\n",
    "    \n",
    "    if count <= 50000:\n",
    "        vs = analyzer.polarity_scores(row['string'])\n",
    "        #print(vs)\n",
    "        \n",
    "        #frankenFrame.ix[index, 'compound'] = vs['compound']\n",
    "        \n",
    "        #row['compound'] = vs['compound']\n",
    "        \n",
    "        sent21 = sent21.append( vs, ignore_index=True)\n",
    "        #frankenFrame = frankenFrame.append(vs, ignore_index=True)\n",
    "    \n",
    "    \n",
    "    count += 1\n",
    "    \n",
    "   \n",
    "    \n",
    "    #added by owen. "
   ]
  },
  {
   "cell_type": "code",
   "execution_count": null,
   "metadata": {
    "collapsed": false
   },
   "outputs": [],
   "source": [
    "fullsent = pd.DataFrame()\n",
    "fullsent = fullsent.append( sent, ignore_index=True)\n",
    "fullsent = fullsent.append( sent2, ignore_index=True)\n",
    "fullsent = fullsent.append( sent3, ignore_index=True)\n",
    "fullsent = fullsent.append( sent4, ignore_index=True)\n",
    "fullsent = fullsent.append( sent5, ignore_index=True)\n",
    "fullsent = fullsent.append( sent6, ignore_index=True)\n",
    "fullsent = fullsent.append( sent7, ignore_index=True)\n",
    "fullsent = fullsent.append( sent8, ignore_index=True)\n",
    "fullsent = fullsent.append( sent9, ignore_index=True)\n",
    "fullsent = fullsent.append( sent10, ignore_index=True)\n",
    "fullsent = fullsent.append( sent11, ignore_index=True)\n",
    "fullsent = fullsent.append( sent12, ignore_index=True)\n",
    "fullsent = fullsent.append( sent13, ignore_index=True)\n",
    "fullsent = fullsent.append( sent14, ignore_index=True)\n",
    "fullsent = fullsent.append( sent15, ignore_index=True)\n",
    "fullsent = fullsent.append( sent16, ignore_index=True)\n",
    "fullsent = fullsent.append( sent17, ignore_index=True)\n",
    "fullsent = fullsent.append( sent18, ignore_index=True)\n",
    "fullsent = fullsent.append( sent19, ignore_index=True)\n",
    "fullsent = fullsent.append( sent20, ignore_index=True)\n",
    "fullsent = fullsent.append( sent21, ignore_index=True)\n",
    "    "
   ]
  },
  {
   "cell_type": "code",
   "execution_count": null,
   "metadata": {
    "collapsed": true
   },
   "outputs": [],
   "source": [
    "#the last 20 or so  frames were added by owen. "
   ]
  },
  {
   "cell_type": "code",
   "execution_count": null,
   "metadata": {
    "collapsed": false
   },
   "outputs": [],
   "source": [
    "print(fullsent)\n"
   ]
  },
  {
   "cell_type": "code",
   "execution_count": null,
   "metadata": {
    "collapsed": false
   },
   "outputs": [],
   "source": [
    "fullsent.to_csv('sentFINAL.csv')#all of the sentiment. might have an extra row every 50000 row... "
   ]
  },
  {
   "cell_type": "code",
   "execution_count": null,
   "metadata": {
    "collapsed": true
   },
   "outputs": [],
   "source": []
  },
  {
   "cell_type": "code",
   "execution_count": null,
   "metadata": {
    "collapsed": false
   },
   "outputs": [],
   "source": [
    "frankenFrame['compound'] = sent['compound']"
   ]
  },
  {
   "cell_type": "code",
   "execution_count": null,
   "metadata": {
    "collapsed": false
   },
   "outputs": [],
   "source": [
    "fullsent.keys()"
   ]
  },
  {
   "cell_type": "code",
   "execution_count": null,
   "metadata": {
    "collapsed": false
   },
   "outputs": [],
   "source": [
    "fullsent"
   ]
  },
  {
   "cell_type": "code",
   "execution_count": null,
   "metadata": {
    "collapsed": false
   },
   "outputs": [],
   "source": []
  },
  {
   "cell_type": "code",
   "execution_count": null,
   "metadata": {
    "collapsed": false
   },
   "outputs": [],
   "source": [
    "frankenFrame"
   ]
  },
  {
   "cell_type": "code",
   "execution_count": null,
   "metadata": {
    "collapsed": false
   },
   "outputs": [],
   "source": [
    "test = analyzer.polarity_scores(\"EXHAUST SYSTEM FAILS; PLEASE DESCRIBE DETAILS. TT\")\n",
    "print(test)"
   ]
  },
  {
   "cell_type": "code",
   "execution_count": null,
   "metadata": {
    "collapsed": false
   },
   "outputs": [],
   "source": [
    "testSent = pd.read_csv(r\"sentFINAL.csv\")"
   ]
  },
  {
   "cell_type": "code",
   "execution_count": null,
   "metadata": {
    "collapsed": false
   },
   "outputs": [],
   "source": [
    "testSent"
   ]
  },
  {
   "cell_type": "code",
   "execution_count": null,
   "metadata": {
    "collapsed": false
   },
   "outputs": [],
   "source": [
    "frankenFrame = frankenFrame[np.isfinite(frankenFrame['compound'])]\n",
    "#with help from: http://stackoverflow.com/questions/13413590/how-to-drop-rows-of-pandas-dataframe-whose-value-in-certain-columns-is-nan"
   ]
  },
  {
   "cell_type": "code",
   "execution_count": null,
   "metadata": {
    "collapsed": false
   },
   "outputs": [],
   "source": [
    "frankenFrame.describe() "
   ]
  },
  {
   "cell_type": "code",
   "execution_count": null,
   "metadata": {
    "collapsed": false
   },
   "outputs": [],
   "source": [
    "frankenFrame['compound'].plot.hist(stacked = True, bins = 100)\n",
    "\n",
    "plt.show()\n"
   ]
  },
  {
   "cell_type": "code",
   "execution_count": null,
   "metadata": {
    "collapsed": false
   },
   "outputs": [],
   "source": [
    "sortFrame = frankenFrame.sort_values(by = 'compound', ascending=[True])"
   ]
  },
  {
   "cell_type": "code",
   "execution_count": null,
   "metadata": {
    "collapsed": false
   },
   "outputs": [],
   "source": [
    "sortFrame.reset_index(drop=True, inplace=True)"
   ]
  },
  {
   "cell_type": "code",
   "execution_count": null,
   "metadata": {
    "collapsed": false
   },
   "outputs": [],
   "source": [
    "sortFrame['compound'].plot()\n",
    "plt.axis([0, 100000, -1.0, 1.0])\n",
    "plt.show()"
   ]
  },
  {
   "cell_type": "code",
   "execution_count": null,
   "metadata": {
    "collapsed": false
   },
   "outputs": [],
   "source": [
    "checkManu = frankenFrame.groupby('model', as_index = False)['death'].mean()\n",
    "manuCounts = frankenFrame['model'].value_counts()\n",
    "remove = manuCounts[manuCounts <= 20].index\n",
    "checkManu['model'].replace(remove, np.nan, inplace = True) "
   ]
  },
  {
   "cell_type": "code",
   "execution_count": null,
   "metadata": {
    "collapsed": false
   },
   "outputs": [],
   "source": [
    "frankenFrame.keys()"
   ]
  },
  {
   "cell_type": "code",
   "execution_count": null,
   "metadata": {
    "collapsed": false
   },
   "outputs": [],
   "source": [
    "frankenFrame = frankenFrame.sort_values(by = 'compound', ascending=[True])"
   ]
  },
  {
   "cell_type": "code",
   "execution_count": null,
   "metadata": {
    "collapsed": false
   },
   "outputs": [],
   "source": [
    "frankenFrame"
   ]
  },
  {
   "cell_type": "code",
   "execution_count": null,
   "metadata": {
    "collapsed": false
   },
   "outputs": [],
   "source": [
    "checkManu.reset_index(drop=True, inplace=True)\n",
    "checkManu.dropna(how='any')"
   ]
  },
  {
   "cell_type": "code",
   "execution_count": null,
   "metadata": {
    "collapsed": false
   },
   "outputs": [],
   "source": [
    "frankenFrame.keys()"
   ]
  },
  {
   "cell_type": "code",
   "execution_count": null,
   "metadata": {
    "collapsed": false
   },
   "outputs": [],
   "source": [
    "checkManu = frankenFrame.groupby('model', as_index = False)['compound'].mean()\n",
    "manuCounts = frankenFrame['model'].value_counts()\n",
    "remove = manuCounts[manuCounts <= 20].index #if there are less than 20 items, drop them. \n",
    "checkManu['model'].replace(remove, np.nan, inplace = True) "
   ]
  },
  {
   "cell_type": "code",
   "execution_count": null,
   "metadata": {
    "collapsed": true
   },
   "outputs": [],
   "source": [
    "checkManu = checkManu.sort_values(by = 'compound', ascending=[True])"
   ]
  },
  {
   "cell_type": "code",
   "execution_count": null,
   "metadata": {
    "collapsed": false
   },
   "outputs": [],
   "source": [
    "checkManu = checkManu.dropna(how='any')"
   ]
  },
  {
   "cell_type": "code",
   "execution_count": null,
   "metadata": {
    "collapsed": false
   },
   "outputs": [],
   "source": [
    "print(checkManu)"
   ]
  },
  {
   "cell_type": "code",
   "execution_count": null,
   "metadata": {
    "collapsed": false
   },
   "outputs": [],
   "source": [
    "checkManu['compound'].plot.bar()\n",
    "plt.axhline(0, color='k')\n",
    "plt.xlabel('make')\n",
    "plt.show()"
   ]
  },
  {
   "cell_type": "code",
   "execution_count": null,
   "metadata": {
    "collapsed": true
   },
   "outputs": [],
   "source": []
  },
  {
   "cell_type": "code",
   "execution_count": null,
   "metadata": {
    "collapsed": false
   },
   "outputs": [],
   "source": [
    "print (frankenFrame[5])"
   ]
  },
  {
   "cell_type": "code",
   "execution_count": null,
   "metadata": {
    "collapsed": true
   },
   "outputs": [],
   "source": [
    "import operator\n"
   ]
  },
  {
   "cell_type": "code",
   "execution_count": null,
   "metadata": {
    "collapsed": false
   },
   "outputs": [],
   "source": [
    "sortVs = sorted(vs.items(), key=operator.itemgetter(0))"
   ]
  },
  {
   "cell_type": "code",
   "execution_count": null,
   "metadata": {
    "collapsed": false
   },
   "outputs": [],
   "source": [
    "print(sortVs)"
   ]
  },
  {
   "cell_type": "code",
   "execution_count": null,
   "metadata": {
    "collapsed": false
   },
   "outputs": [],
   "source": [
    "carData['Ford Motor Company'].value_counts()"
   ]
  },
  {
   "cell_type": "code",
   "execution_count": null,
   "metadata": {
    "collapsed": true
   },
   "outputs": [],
   "source": []
  }
 ],
 "metadata": {
  "anaconda-cloud": {},
  "kernelspec": {
   "display_name": "Python [conda root]",
   "language": "python",
   "name": "conda-root-py"
  },
  "language_info": {
   "codemirror_mode": {
    "name": "ipython",
    "version": 3
   },
   "file_extension": ".py",
   "mimetype": "text/x-python",
   "name": "python",
   "nbconvert_exporter": "python",
   "pygments_lexer": "ipython3",
   "version": "3.5.2"
  }
 },
 "nbformat": 4,
 "nbformat_minor": 1
}
