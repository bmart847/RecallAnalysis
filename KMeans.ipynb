{
 "cells": [
  {
   "cell_type": "markdown",
   "metadata": {},
   "source": [
    "# K-Means"
   ]
  },
  {
   "cell_type": "code",
   "execution_count": 9,
   "metadata": {
    "collapsed": true
   },
   "outputs": [],
   "source": [
    "import pandas as pd\n",
    "import numpy as np\n",
    "from sklearn.cluster import KMeans\n",
    "from sklearn import preprocessing"
   ]
  },
  {
   "cell_type": "code",
   "execution_count": null,
   "metadata": {
    "collapsed": false
   },
   "outputs": [],
   "source": [
    "# train = pd.read_table(r\"train/FLAT_RCL.txt\", error_bad_lines = False, header = None, encoding = 'latin1')\n",
    "test = pd.read_csv(r\"tinySample.csv\", error_bad_lines = False, header = 0, index_col = 0, encoding = 'latin1')\n",
    "recalls = pd.read_table(r\"test/FLAT_RCL.txt\", error_bad_lines = False, index_col = None, header = None, encoding = 'latin1')\n",
    "recalls.columns = ['RECORD_ID', 'CAMPNO', 'MAKETXT', 'MODELTXT', 'YEARTXT', 'MFGCAMPNO', 'COMPNAME', 'MFGNAME', 'BGMAN', 'ENDMAN', 'RCLTYPECD', 'POTAFF', 'ODATE', 'INFLUENCED_BY', 'MFGTXT', 'RCDATE', 'DATEA', 'RPNO', 'FMVSS', 'DESC_DEFECT', 'CONEQUENCE_DEFECT\t', 'CORRECTIVE_ACTION', 'NOTES', 'RCL_CMPT_ID']\n",
    "\n",
    "makelist = list(set(recalls['MAKETXT'].tolist()))\n",
    "modellist = list(set(recalls['MODELTXT'].tolist()))\n",
    "\n",
    "#makelist\n",
    "#modellist\n",
    "\n",
    "#test\n",
    "#recalls"
   ]
  },
  {
   "cell_type": "code",
   "execution_count": 16,
   "metadata": {
    "collapsed": false
   },
   "outputs": [
    {
     "data": {
      "text/plain": [
       "compound    float64\n",
       "index       float64\n",
       "make         object\n",
       "model        object\n",
       "neg         float64\n",
       "neu         float64\n",
       "pos         float64\n",
       "string       object\n",
       "dtype: object"
      ]
     },
     "execution_count": 16,
     "metadata": {},
     "output_type": "execute_result"
    }
   ],
   "source": [
    "test.dtypes\n",
    "# test = test.fillna('None')"
   ]
  },
  {
   "cell_type": "code",
   "execution_count": 79,
   "metadata": {
    "collapsed": false
   },
   "outputs": [
    {
     "name": "stdout",
     "output_type": "stream",
     "text": [
      "Analysis:\n",
      "Not Recalled: 7045 | Recalled: 218395\n"
     ]
    }
   ],
   "source": [
    "# Convert Numerical\n",
    "target_cols = ['make', 'model']\n",
    "\n",
    "testNum = test.copy()\n",
    "del testNum['string']\n",
    "testNum.dropna(axis = 'rows', how = 'any', inplace = 'true')\n",
    "testNum['index'] = testNum['index'].astype(int)\n",
    "testNum['recalled'] = 0\n",
    "boolList = testNum['recalled'].tolist()\n",
    "\n",
    "#print(\"Targetting columns: \" + str(target_cols))\n",
    "\n",
    "#x=0\n",
    "#for make in testNum['make'].tolist():\n",
    "#    if make in makelist:\n",
    "#        boolList[x] = 1\n",
    "#    x = x+1\n",
    "    \n",
    "x=0\n",
    "for model in testNum['model'].tolist():\n",
    "    if model in modellist:\n",
    "        boolList[x] = 1\n",
    "    x = x+1\n",
    "\n",
    "\n",
    "#testNum\n",
    "print(\"Analysis:\")\n",
    "print(\"Not Recalled: \" + str(boolList.count(0)) + \" | Recalled: \" + str(boolList.count(1)))\n",
    "\n",
    "#encoder = preprocessing.LabelEncoder()\n",
    "\n",
    "#for item in target_cols:\n",
    "#    encoder.fit(testNum[item])\n",
    "#    print(list(encoder.classes_))\n",
    "#    testNum[item] = encoder.fit_transform(testNum[item])"
   ]
  },
  {
   "cell_type": "code",
   "execution_count": null,
   "metadata": {
    "collapsed": false,
    "scrolled": false
   },
   "outputs": [],
   "source": [
    "testNum"
   ]
  },
  {
   "cell_type": "code",
   "execution_count": null,
   "metadata": {
    "collapsed": false
   },
   "outputs": [],
   "source": [
    "kmeans = KMeans(n_clusters=5, random_state=0).fit(testNum)\n",
    "kmeans.labels_\n",
    "kmeans.cluster_centers_"
   ]
  },
  {
   "cell_type": "code",
   "execution_count": null,
   "metadata": {
    "collapsed": true
   },
   "outputs": [],
   "source": []
  }
 ],
 "metadata": {
  "kernelspec": {
   "display_name": "Python 3",
   "language": "python",
   "name": "python3"
  },
  "language_info": {
   "codemirror_mode": {
    "name": "ipython",
    "version": 3
   },
   "file_extension": ".py",
   "mimetype": "text/x-python",
   "name": "python",
   "nbconvert_exporter": "python",
   "pygments_lexer": "ipython3",
   "version": "3.6.0"
  }
 },
 "nbformat": 4,
 "nbformat_minor": 2
}
